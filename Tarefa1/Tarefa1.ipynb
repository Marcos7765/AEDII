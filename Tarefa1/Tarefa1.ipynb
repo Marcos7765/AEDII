{
  "nbformat": 4,
  "nbformat_minor": 0,
  "metadata": {
    "colab": {
      "provenance": [],
      "collapsed_sections": [
        "LL7UBG4RRNvU"
      ]
    },
    "kernelspec": {
      "name": "python3",
      "display_name": "Python 3"
    },
    "language_info": {
      "name": "python"
    },
    "widgets": {
      "application/vnd.jupyter.widget-state+json": {
        "f8e417e175cf4ab5962ea4b238aa86fb": {
          "model_module": "@jupyter-widgets/controls",
          "model_name": "VBoxModel",
          "model_module_version": "1.5.0",
          "state": {
            "_dom_classes": [
              "widget-interact"
            ],
            "_model_module": "@jupyter-widgets/controls",
            "_model_module_version": "1.5.0",
            "_model_name": "VBoxModel",
            "_view_count": null,
            "_view_module": "@jupyter-widgets/controls",
            "_view_module_version": "1.5.0",
            "_view_name": "VBoxView",
            "box_style": "",
            "children": [
              "IPY_MODEL_e9293b45bb774e16856e3f404a3ef252",
              "IPY_MODEL_20f493b8780746c59f9c91d6199e5ce7"
            ],
            "layout": "IPY_MODEL_885a534efce04205889830661c871536"
          }
        },
        "e9293b45bb774e16856e3f404a3ef252": {
          "model_module": "@jupyter-widgets/controls",
          "model_name": "TextModel",
          "model_module_version": "1.5.0",
          "state": {
            "_dom_classes": [],
            "_model_module": "@jupyter-widgets/controls",
            "_model_module_version": "1.5.0",
            "_model_name": "TextModel",
            "_view_count": null,
            "_view_module": "@jupyter-widgets/controls",
            "_view_module_version": "1.5.0",
            "_view_name": "TextView",
            "continuous_update": true,
            "description": "Text",
            "description_tooltip": null,
            "disabled": false,
            "layout": "IPY_MODEL_73dd40a9afb440d9a55f5ac9907b2e94",
            "placeholder": "​",
            "style": "IPY_MODEL_27d556812eaf43fcae3795644f0650d0",
            "value": "ass"
          }
        },
        "20f493b8780746c59f9c91d6199e5ce7": {
          "model_module": "@jupyter-widgets/output",
          "model_name": "OutputModel",
          "model_module_version": "1.0.0",
          "state": {
            "_dom_classes": [],
            "_model_module": "@jupyter-widgets/output",
            "_model_module_version": "1.0.0",
            "_model_name": "OutputModel",
            "_view_count": null,
            "_view_module": "@jupyter-widgets/output",
            "_view_module_version": "1.0.0",
            "_view_name": "OutputView",
            "layout": "IPY_MODEL_b6bf69357b6146ba829732185bdd17f5",
            "msg_id": "",
            "outputs": [
              {
                "output_type": "display_data",
                "data": {
                  "text/plain": "'assguravaõ, assaltou, assegurarem, assegurada, assemilharia, assistiaõ'",
                  "application/vnd.google.colaboratory.intrinsic+json": {
                    "type": "string"
                  }
                },
                "metadata": {}
              }
            ]
          }
        },
        "885a534efce04205889830661c871536": {
          "model_module": "@jupyter-widgets/base",
          "model_name": "LayoutModel",
          "model_module_version": "1.2.0",
          "state": {
            "_model_module": "@jupyter-widgets/base",
            "_model_module_version": "1.2.0",
            "_model_name": "LayoutModel",
            "_view_count": null,
            "_view_module": "@jupyter-widgets/base",
            "_view_module_version": "1.2.0",
            "_view_name": "LayoutView",
            "align_content": null,
            "align_items": null,
            "align_self": null,
            "border": null,
            "bottom": null,
            "display": null,
            "flex": null,
            "flex_flow": null,
            "grid_area": null,
            "grid_auto_columns": null,
            "grid_auto_flow": null,
            "grid_auto_rows": null,
            "grid_column": null,
            "grid_gap": null,
            "grid_row": null,
            "grid_template_areas": null,
            "grid_template_columns": null,
            "grid_template_rows": null,
            "height": null,
            "justify_content": null,
            "justify_items": null,
            "left": null,
            "margin": null,
            "max_height": null,
            "max_width": null,
            "min_height": null,
            "min_width": null,
            "object_fit": null,
            "object_position": null,
            "order": null,
            "overflow": null,
            "overflow_x": null,
            "overflow_y": null,
            "padding": null,
            "right": null,
            "top": null,
            "visibility": null,
            "width": null
          }
        },
        "73dd40a9afb440d9a55f5ac9907b2e94": {
          "model_module": "@jupyter-widgets/base",
          "model_name": "LayoutModel",
          "model_module_version": "1.2.0",
          "state": {
            "_model_module": "@jupyter-widgets/base",
            "_model_module_version": "1.2.0",
            "_model_name": "LayoutModel",
            "_view_count": null,
            "_view_module": "@jupyter-widgets/base",
            "_view_module_version": "1.2.0",
            "_view_name": "LayoutView",
            "align_content": null,
            "align_items": null,
            "align_self": null,
            "border": null,
            "bottom": null,
            "display": null,
            "flex": null,
            "flex_flow": null,
            "grid_area": null,
            "grid_auto_columns": null,
            "grid_auto_flow": null,
            "grid_auto_rows": null,
            "grid_column": null,
            "grid_gap": null,
            "grid_row": null,
            "grid_template_areas": null,
            "grid_template_columns": null,
            "grid_template_rows": null,
            "height": null,
            "justify_content": null,
            "justify_items": null,
            "left": null,
            "margin": null,
            "max_height": null,
            "max_width": null,
            "min_height": null,
            "min_width": null,
            "object_fit": null,
            "object_position": null,
            "order": null,
            "overflow": null,
            "overflow_x": null,
            "overflow_y": null,
            "padding": null,
            "right": null,
            "top": null,
            "visibility": null,
            "width": null
          }
        },
        "27d556812eaf43fcae3795644f0650d0": {
          "model_module": "@jupyter-widgets/controls",
          "model_name": "DescriptionStyleModel",
          "model_module_version": "1.5.0",
          "state": {
            "_model_module": "@jupyter-widgets/controls",
            "_model_module_version": "1.5.0",
            "_model_name": "DescriptionStyleModel",
            "_view_count": null,
            "_view_module": "@jupyter-widgets/base",
            "_view_module_version": "1.2.0",
            "_view_name": "StyleView",
            "description_width": ""
          }
        },
        "b6bf69357b6146ba829732185bdd17f5": {
          "model_module": "@jupyter-widgets/base",
          "model_name": "LayoutModel",
          "model_module_version": "1.2.0",
          "state": {
            "_model_module": "@jupyter-widgets/base",
            "_model_module_version": "1.2.0",
            "_model_name": "LayoutModel",
            "_view_count": null,
            "_view_module": "@jupyter-widgets/base",
            "_view_module_version": "1.2.0",
            "_view_name": "LayoutView",
            "align_content": null,
            "align_items": null,
            "align_self": null,
            "border": null,
            "bottom": null,
            "display": null,
            "flex": null,
            "flex_flow": null,
            "grid_area": null,
            "grid_auto_columns": null,
            "grid_auto_flow": null,
            "grid_auto_rows": null,
            "grid_column": null,
            "grid_gap": null,
            "grid_row": null,
            "grid_template_areas": null,
            "grid_template_columns": null,
            "grid_template_rows": null,
            "height": null,
            "justify_content": null,
            "justify_items": null,
            "left": null,
            "margin": null,
            "max_height": null,
            "max_width": null,
            "min_height": null,
            "min_width": null,
            "object_fit": null,
            "object_position": null,
            "order": null,
            "overflow": null,
            "overflow_x": null,
            "overflow_y": null,
            "padding": null,
            "right": null,
            "top": null,
            "visibility": null,
            "width": null
          }
        }
      }
    }
  },
  "cells": [
    {
      "cell_type": "markdown",
      "source": [
        "# Implementation of the AVL Tree\n",
        "From the course repository.\n",
        "Link: https://github.com/ivanovitchm/datastructure/blob/main/lessons/week_02/AVL.ipynb"
      ],
      "metadata": {
        "id": "LL7UBG4RRNvU"
      }
    },
    {
      "cell_type": "code",
      "source": [
        "# solved exercise\n",
        "\n",
        "class Node:\n",
        "    \"\"\"\n",
        "    A class representing a node in a Binary Search Tree (BST).\n",
        "\n",
        "    Each node contains a value and references to its left and right children.\n",
        "    \"\"\"\n",
        "\n",
        "    def __init__(self, value):\n",
        "        \"\"\"\n",
        "        Initializes a Node with a given value.\n",
        "\n",
        "        Parameters:\n",
        "        - value: The value to be stored in the node.\n",
        "\n",
        "        Both left and right child references are initialized as None.\n",
        "        \"\"\"\n",
        "        self.value = value\n",
        "        self.left_child = None\n",
        "        self.right_child = None\n",
        "\n",
        "\n",
        "class BST:\n",
        "    \"\"\"\n",
        "    Represents a Binary Search Tree (BST).\n",
        "\n",
        "    Attributes:\n",
        "        root (Node or None): The root node of the tree. Initializes to None for an empty tree.\n",
        "    \"\"\"\n",
        "\n",
        "    def __init__(self):\n",
        "        \"\"\"Initializes an empty BST.\"\"\"\n",
        "        self.root = None\n",
        "\n",
        "    def add(self, value):\n",
        "        \"\"\"\n",
        "        Inserts a new value into the BST.\n",
        "\n",
        "        Args:\n",
        "            value: The value to be added to the tree.\n",
        "\n",
        "        If the tree is empty, the value becomes the root. Otherwise, the method uses\n",
        "        a recursive helper function to find the appropriate position to maintain the BST property.\n",
        "        \"\"\"\n",
        "        if self.root is None:\n",
        "            self.root = Node(value)\n",
        "        else:\n",
        "            self._add_recursive(self.root, value)\n",
        "\n",
        "    def _add_recursive(self, current_node, value):\n",
        "        \"\"\"\n",
        "        Recursively finds the correct position and inserts a value into the BST.\n",
        "\n",
        "        Args:\n",
        "            current_node (Node): The node to start the search for the insert position from.\n",
        "            value: The value to be added to the BST.\n",
        "\n",
        "        The method determines if the new value should be placed to the left or right of\n",
        "        the current node. If the target position is empty, the value is inserted.\n",
        "        Otherwise, the function calls itself recursively with the respective child node.\n",
        "        \"\"\"\n",
        "        if value <= current_node.value:\n",
        "            if current_node.left_child is None:\n",
        "                current_node.left_child = Node(value)\n",
        "            else:\n",
        "                self._add_recursive(current_node.left_child, value)\n",
        "        else:\n",
        "            if current_node.right_child is None:\n",
        "                current_node.right_child = Node(value)\n",
        "            else:\n",
        "                self._add_recursive(current_node.right_child, value)\n",
        "\n",
        "    def _contains(self, current_node, value):\n",
        "        \"\"\"\n",
        "        Recursively checks if the BST contains the specified value starting from a given node.\n",
        "\n",
        "        Args:\n",
        "            current_node (Node): The node to start the search from.\n",
        "            value: The value to search for in the BST.\n",
        "\n",
        "        Returns:\n",
        "            bool: True if the value exists in the subtree rooted at current_node, otherwise False.\n",
        "        \"\"\"\n",
        "        if current_node is None:\n",
        "            return False\n",
        "        if current_node.value == value:\n",
        "            return True\n",
        "        if value < current_node.value:\n",
        "            return self._contains(current_node.left_child, value)\n",
        "        return self._contains(current_node.right_child, value)\n",
        "\n",
        "    def contains(self, value):\n",
        "        \"\"\"\n",
        "        Checks if the BST contains the specified value.\n",
        "\n",
        "        Args:\n",
        "            value: The value to search for in the BST.\n",
        "\n",
        "        Returns:\n",
        "            bool: True if the BST contains the value, otherwise False.\n",
        "        \"\"\"\n",
        "        return self._contains(self.root, value)"
      ],
      "metadata": {
        "id": "7LRIRnIZdNF-"
      },
      "execution_count": null,
      "outputs": []
    },
    {
      "cell_type": "code",
      "source": [
        "# solved exercise\n",
        "\n",
        "class AVLNode(Node):\n",
        "    \"\"\"\n",
        "    Represents a node in an AVL (Adelson-Velsky and Landis) tree,\n",
        "    which is a self-balancing binary search tree.\n",
        "\n",
        "    Attributes:\n",
        "        height (int): The height of the subtree rooted at this node,\n",
        "                      initializes to 1 when the node is created.\n",
        "        imbalance (int): The imbalance factor of this node, calculated\n",
        "                         as the difference between the heights of the left\n",
        "                         and right subtrees. Initializes to 0.\n",
        "\n",
        "    Inherits from:\n",
        "        Node: Inherits attributes and methods from the Node class.\n",
        "    \"\"\"\n",
        "\n",
        "    def __init__(self, value):\n",
        "        \"\"\"\n",
        "        Initializes an AVLNode with a given value.\n",
        "\n",
        "        Args:\n",
        "            value: The value to be stored in this node.\n",
        "        \"\"\"\n",
        "        super().__init__(value)\n",
        "        self.height = 1\n",
        "        self.imbalance = 0\n",
        "\n",
        "    def calculate_height_and_imbalance(self):\n",
        "        \"\"\"\n",
        "        Calculates the height and imbalance factor of this node based\n",
        "        on the heights of its left and right children.\n",
        "\n",
        "        This method assumes that the heights of the children nodes (if they exist)\n",
        "        are up-to-date.\n",
        "        \"\"\"\n",
        "        # Calculate the height of the left child subtree\n",
        "        left_height = 0\n",
        "        if self.left_child is not None:\n",
        "            left_height = self.left_child.height\n",
        "\n",
        "        # Calculate the height of the right child subtree\n",
        "        right_height = 0\n",
        "        if self.right_child is not None:\n",
        "            right_height = self.right_child.height\n",
        "\n",
        "        # Update the height of this node\n",
        "        self.height = 1 + max(left_height, right_height)\n",
        "\n",
        "        # Calculate and update the imbalance factor for this node\n",
        "        self.imbalance = left_height - right_height"
      ],
      "metadata": {
        "id": "2vQvFRV2dY6e"
      },
      "execution_count": null,
      "outputs": []
    },
    {
      "cell_type": "code",
      "source": [
        "# Solved Exercise\n",
        "\n",
        "class AVLTree(BST):\n",
        "    \"\"\"\n",
        "    Represents an AVL (Adelson-Velsky and Landis) tree, a self-balancing binary search tree.\n",
        "    Inherits all attributes and methods from the BST class and overrides some to maintain the AVL balance property.\n",
        "\n",
        "    Attributes:\n",
        "        Inherits all attributes from the BST class.\n",
        "    \"\"\"\n",
        "\n",
        "    def __init__(self):\n",
        "        \"\"\"\n",
        "        Initializes an empty AVL Tree.\n",
        "        \"\"\"\n",
        "        super().__init__()\n",
        "\n",
        "    def add(self, value):\n",
        "        \"\"\"\n",
        "        Overrides the add method in the BST class to handle AVL Tree balancing.\n",
        "        \"\"\"\n",
        "        self.root = self._add_recursive(self.root, value)  # Note that self.root is updated here\n",
        "\n",
        "\n",
        "    def _add_recursive(self, current_node, value):\n",
        "        \"\"\"\n",
        "        Overrides the BST method to recursively find the correct position and insert a value into the AVL tree.\n",
        "        This method also ensures the tree remains balanced by updating node heights and performing rotations as needed.\n",
        "\n",
        "        Args:\n",
        "            current_node (AVLNode or Node or None): The node from which to start the search for the insert position.\n",
        "            value (Any): The value to be added to the AVL tree.\n",
        "\n",
        "        Returns:\n",
        "            AVLNode: The node that either gets inserted or the node that was already present at that position.\n",
        "\n",
        "        Notes:\n",
        "            1. The method first checks if the `current_node` is an instance of the base class `Node`.\n",
        "              If it is, the method casts it to `AVLNode` to ensure AVL properties are maintained. This is especially\n",
        "              useful if the first node added to the tree is of type `Node`; this ensures subsequent nodes will be of\n",
        "              type `AVLNode`.\n",
        "            2. The method also balances the tree by calling the `_balance` method if the imbalance factor\n",
        "              of a node reaches 2 or -2 after an insert operation.\n",
        "        \"\"\"\n",
        "\n",
        "        # If the current node is None, return a new AVLNode containing the value\n",
        "        if current_node is None:\n",
        "            return AVLNode(value)\n",
        "\n",
        "        # Check if current_node is of the base class Node and cast it to AVLNode if necessary\n",
        "        # This is necessary to not change the add() in the BST class.\n",
        "        # When the first node is added, the type of the root is Node, so we need to cast it\n",
        "        if isinstance(current_node, Node) and not isinstance(current_node, AVLNode):\n",
        "            current_node = AVLNode(current_node.value)\n",
        "            current_node.left_child = self.root.left_child\n",
        "            current_node.right_child = self.root.right_child\n",
        "            self.root = current_node\n",
        "\n",
        "        # Determine whether the value should be inserted to the left or right subtree\n",
        "        if value <= current_node.value:\n",
        "            current_node.left_child = self._add_recursive(current_node.left_child, value)\n",
        "        else:\n",
        "            current_node.right_child = self._add_recursive(current_node.right_child, value)\n",
        "\n",
        "        # Update the height and imbalance factor for the current node\n",
        "        current_node.calculate_height_and_imbalance()\n",
        "\n",
        "        # Check if tree balancing is needed and balance if necessary\n",
        "        if abs(current_node.imbalance) == 2:\n",
        "            return self._balance(current_node)\n",
        "\n",
        "        return current_node\n",
        "\n",
        "    def get_height(self):\n",
        "        \"\"\"\n",
        "        Retrieves the height of the AVL Tree.\n",
        "\n",
        "        Returns:\n",
        "            int: The height of the tree rooted at self.root. Returns 0 if the tree is empty.\n",
        "        \"\"\"\n",
        "        if self.root is None:\n",
        "            return 0\n",
        "        return self.root.height\n",
        "\n",
        "    def _rotate_left(self, node):\n",
        "        \"\"\"\n",
        "        Performs a left rotation on the given node and adjusts the height and imbalance attributes.\n",
        "\n",
        "        A left rotation is used to balance an AVL Tree when the right subtree of a node\n",
        "        becomes higher than the left subtree. The method updates the heights and imbalance\n",
        "        factors for the rotated nodes.\n",
        "\n",
        "        Args:\n",
        "            node (AVLNode): The node to be rotated.\n",
        "\n",
        "        Returns:\n",
        "            AVLNode: The new root node of the rotated subtree (the pivot).\n",
        "        \"\"\"\n",
        "\n",
        "        # Store the pivot (the root of the right subtree of 'node')\n",
        "        pivot = node.right_child\n",
        "\n",
        "        # Update the right child of 'node' to be the left child of the pivot\n",
        "        node.right_child = pivot.left_child\n",
        "\n",
        "        # Set the left child of the pivot to be the node\n",
        "        pivot.left_child = node\n",
        "\n",
        "        # Recalculate the height and imbalance factor for the rotated node\n",
        "        node.calculate_height_and_imbalance()\n",
        "\n",
        "        # Recalculate the height and imbalance factor for the pivot\n",
        "        pivot.calculate_height_and_imbalance()\n",
        "\n",
        "        # Return the pivot as the new root of this subtree\n",
        "        return pivot\n",
        "\n",
        "\n",
        "    def _rotate_right(self, node):\n",
        "        \"\"\"\n",
        "        Performs a right rotation on the given node and adjusts the height and imbalance attributes.\n",
        "\n",
        "        A right rotation is used to balance an AVL Tree when the left subtree of a node\n",
        "        becomes higher than the right subtree. This method updates the heights and imbalance\n",
        "        factors for the rotated nodes.\n",
        "\n",
        "        Args:\n",
        "            node (AVLNode): The node around which the rotation will be performed.\n",
        "\n",
        "        Returns:\n",
        "            AVLNode: The new root node of the rotated subtree (the pivot).\n",
        "        \"\"\"\n",
        "\n",
        "        # Store the pivot (the root of the left subtree of 'node')\n",
        "        pivot = node.left_child\n",
        "\n",
        "        # Update the left child of 'node' to be the right child of the pivot\n",
        "        node.left_child = pivot.right_child\n",
        "\n",
        "        # Set the right child of the pivot to be the node\n",
        "        pivot.right_child = node\n",
        "\n",
        "        # Recalculate the height and imbalance factor for the rotated node\n",
        "        node.calculate_height_and_imbalance()\n",
        "\n",
        "        # Recalculate the height and imbalance factor for the pivot\n",
        "        pivot.calculate_height_and_imbalance()\n",
        "\n",
        "        # Return the pivot as the new root of this subtree\n",
        "        return pivot\n",
        "\n",
        "    def _balance(self, node):\n",
        "      \"\"\"\n",
        "      Balances the subtree rooted at the given node by performing rotations as needed.\n",
        "\n",
        "      If the imbalance factor of the given node is 2 or -2, rotations are performed\n",
        "      to bring the subtree back into balance. This method also takes into account\n",
        "      the imbalance factors of the child nodes to decide which type of rotation is needed\n",
        "      (single or double).\n",
        "\n",
        "      Args:\n",
        "          node (AVLNode): The root node of the subtree that needs to be balanced.\n",
        "\n",
        "      Returns:\n",
        "          AVLNode: The new root node of the balanced subtree.\n",
        "\n",
        "      Note:\n",
        "          This method assumes that the height and imbalance factor of each node are up-to-date.\n",
        "      \"\"\"\n",
        "\n",
        "      # Case 1: Left subtree is higher than right subtree\n",
        "      if node.imbalance == 2:\n",
        "          pivot = node.left_child\n",
        "          # Single right rotation\n",
        "          if pivot.imbalance == 1:\n",
        "              return self._rotate_right(node)\n",
        "          # Double rotation: Left-Right\n",
        "          else:\n",
        "              node.left_child = self._rotate_left(pivot)\n",
        "              return self._rotate_right(node)\n",
        "      # Case 2: Right subtree is higher than left subtree\n",
        "      else:\n",
        "          pivot = node.right_child\n",
        "          # Single left rotation\n",
        "          if pivot.imbalance == -1:\n",
        "              return self._rotate_left(node)\n",
        "          # Double rotation: Right-Left\n",
        "          else:\n",
        "              node.right_child = self._rotate_right(pivot)\n",
        "              return self._rotate_left(node)"
      ],
      "metadata": {
        "id": "v7vzJSNJN4ta"
      },
      "execution_count": null,
      "outputs": []
    },
    {
      "cell_type": "markdown",
      "source": [
        "# Setup"
      ],
      "metadata": {
        "id": "MqhoG3xzKNOh"
      }
    },
    {
      "cell_type": "code",
      "source": [
        "!python -m spacy download pt_core_news_sm\n",
        "!pip install streamlit\n",
        "!pip install streamlit_jupyter\n",
        "import spacy as spc\n",
        "import streamlit as st\n",
        "from streamlit_jupyter import StreamlitPatcher\n",
        "StreamlitPatcher().jupyter()"
      ],
      "metadata": {
        "colab": {
          "base_uri": "https://localhost:8080/"
        },
        "id": "KAMfZuHwKQjT",
        "outputId": "0c15caaa-428e-4c40-fe90-4a069a018562"
      },
      "execution_count": null,
      "outputs": [
        {
          "output_type": "stream",
          "name": "stdout",
          "text": [
            "Collecting pt-core-news-sm==3.7.0\n",
            "  Downloading https://github.com/explosion/spacy-models/releases/download/pt_core_news_sm-3.7.0/pt_core_news_sm-3.7.0-py3-none-any.whl (13.0 MB)\n",
            "\u001b[2K     \u001b[90m━━━━━━━━━━━━━━━━━━━━━━━━━━━━━━━━━━━━━━━━\u001b[0m \u001b[32m13.0/13.0 MB\u001b[0m \u001b[31m20.5 MB/s\u001b[0m eta \u001b[36m0:00:00\u001b[0m\n",
            "\u001b[?25hRequirement already satisfied: spacy<3.8.0,>=3.7.0 in /usr/local/lib/python3.10/dist-packages (from pt-core-news-sm==3.7.0) (3.7.4)\n",
            "Requirement already satisfied: spacy-legacy<3.1.0,>=3.0.11 in /usr/local/lib/python3.10/dist-packages (from spacy<3.8.0,>=3.7.0->pt-core-news-sm==3.7.0) (3.0.12)\n",
            "Requirement already satisfied: spacy-loggers<2.0.0,>=1.0.0 in /usr/local/lib/python3.10/dist-packages (from spacy<3.8.0,>=3.7.0->pt-core-news-sm==3.7.0) (1.0.5)\n",
            "Requirement already satisfied: murmurhash<1.1.0,>=0.28.0 in /usr/local/lib/python3.10/dist-packages (from spacy<3.8.0,>=3.7.0->pt-core-news-sm==3.7.0) (1.0.10)\n",
            "Requirement already satisfied: cymem<2.1.0,>=2.0.2 in /usr/local/lib/python3.10/dist-packages (from spacy<3.8.0,>=3.7.0->pt-core-news-sm==3.7.0) (2.0.8)\n",
            "Requirement already satisfied: preshed<3.1.0,>=3.0.2 in /usr/local/lib/python3.10/dist-packages (from spacy<3.8.0,>=3.7.0->pt-core-news-sm==3.7.0) (3.0.9)\n",
            "Requirement already satisfied: thinc<8.3.0,>=8.2.2 in /usr/local/lib/python3.10/dist-packages (from spacy<3.8.0,>=3.7.0->pt-core-news-sm==3.7.0) (8.2.3)\n",
            "Requirement already satisfied: wasabi<1.2.0,>=0.9.1 in /usr/local/lib/python3.10/dist-packages (from spacy<3.8.0,>=3.7.0->pt-core-news-sm==3.7.0) (1.1.2)\n",
            "Requirement already satisfied: srsly<3.0.0,>=2.4.3 in /usr/local/lib/python3.10/dist-packages (from spacy<3.8.0,>=3.7.0->pt-core-news-sm==3.7.0) (2.4.8)\n",
            "Requirement already satisfied: catalogue<2.1.0,>=2.0.6 in /usr/local/lib/python3.10/dist-packages (from spacy<3.8.0,>=3.7.0->pt-core-news-sm==3.7.0) (2.0.10)\n",
            "Requirement already satisfied: weasel<0.4.0,>=0.1.0 in /usr/local/lib/python3.10/dist-packages (from spacy<3.8.0,>=3.7.0->pt-core-news-sm==3.7.0) (0.3.4)\n",
            "Requirement already satisfied: typer<0.10.0,>=0.3.0 in /usr/local/lib/python3.10/dist-packages (from spacy<3.8.0,>=3.7.0->pt-core-news-sm==3.7.0) (0.9.0)\n",
            "Requirement already satisfied: smart-open<7.0.0,>=5.2.1 in /usr/local/lib/python3.10/dist-packages (from spacy<3.8.0,>=3.7.0->pt-core-news-sm==3.7.0) (6.4.0)\n",
            "Requirement already satisfied: tqdm<5.0.0,>=4.38.0 in /usr/local/lib/python3.10/dist-packages (from spacy<3.8.0,>=3.7.0->pt-core-news-sm==3.7.0) (4.66.2)\n",
            "Requirement already satisfied: requests<3.0.0,>=2.13.0 in /usr/local/lib/python3.10/dist-packages (from spacy<3.8.0,>=3.7.0->pt-core-news-sm==3.7.0) (2.31.0)\n",
            "Requirement already satisfied: pydantic!=1.8,!=1.8.1,<3.0.0,>=1.7.4 in /usr/local/lib/python3.10/dist-packages (from spacy<3.8.0,>=3.7.0->pt-core-news-sm==3.7.0) (2.6.4)\n",
            "Requirement already satisfied: jinja2 in /usr/local/lib/python3.10/dist-packages (from spacy<3.8.0,>=3.7.0->pt-core-news-sm==3.7.0) (3.1.3)\n",
            "Requirement already satisfied: setuptools in /usr/local/lib/python3.10/dist-packages (from spacy<3.8.0,>=3.7.0->pt-core-news-sm==3.7.0) (67.7.2)\n",
            "Requirement already satisfied: packaging>=20.0 in /usr/local/lib/python3.10/dist-packages (from spacy<3.8.0,>=3.7.0->pt-core-news-sm==3.7.0) (24.0)\n",
            "Requirement already satisfied: langcodes<4.0.0,>=3.2.0 in /usr/local/lib/python3.10/dist-packages (from spacy<3.8.0,>=3.7.0->pt-core-news-sm==3.7.0) (3.3.0)\n",
            "Requirement already satisfied: numpy>=1.19.0 in /usr/local/lib/python3.10/dist-packages (from spacy<3.8.0,>=3.7.0->pt-core-news-sm==3.7.0) (1.25.2)\n",
            "Requirement already satisfied: annotated-types>=0.4.0 in /usr/local/lib/python3.10/dist-packages (from pydantic!=1.8,!=1.8.1,<3.0.0,>=1.7.4->spacy<3.8.0,>=3.7.0->pt-core-news-sm==3.7.0) (0.6.0)\n",
            "Requirement already satisfied: pydantic-core==2.16.3 in /usr/local/lib/python3.10/dist-packages (from pydantic!=1.8,!=1.8.1,<3.0.0,>=1.7.4->spacy<3.8.0,>=3.7.0->pt-core-news-sm==3.7.0) (2.16.3)\n",
            "Requirement already satisfied: typing-extensions>=4.6.1 in /usr/local/lib/python3.10/dist-packages (from pydantic!=1.8,!=1.8.1,<3.0.0,>=1.7.4->spacy<3.8.0,>=3.7.0->pt-core-news-sm==3.7.0) (4.10.0)\n",
            "Requirement already satisfied: charset-normalizer<4,>=2 in /usr/local/lib/python3.10/dist-packages (from requests<3.0.0,>=2.13.0->spacy<3.8.0,>=3.7.0->pt-core-news-sm==3.7.0) (3.3.2)\n",
            "Requirement already satisfied: idna<4,>=2.5 in /usr/local/lib/python3.10/dist-packages (from requests<3.0.0,>=2.13.0->spacy<3.8.0,>=3.7.0->pt-core-news-sm==3.7.0) (3.6)\n",
            "Requirement already satisfied: urllib3<3,>=1.21.1 in /usr/local/lib/python3.10/dist-packages (from requests<3.0.0,>=2.13.0->spacy<3.8.0,>=3.7.0->pt-core-news-sm==3.7.0) (2.0.7)\n",
            "Requirement already satisfied: certifi>=2017.4.17 in /usr/local/lib/python3.10/dist-packages (from requests<3.0.0,>=2.13.0->spacy<3.8.0,>=3.7.0->pt-core-news-sm==3.7.0) (2024.2.2)\n",
            "Requirement already satisfied: blis<0.8.0,>=0.7.8 in /usr/local/lib/python3.10/dist-packages (from thinc<8.3.0,>=8.2.2->spacy<3.8.0,>=3.7.0->pt-core-news-sm==3.7.0) (0.7.11)\n",
            "Requirement already satisfied: confection<1.0.0,>=0.0.1 in /usr/local/lib/python3.10/dist-packages (from thinc<8.3.0,>=8.2.2->spacy<3.8.0,>=3.7.0->pt-core-news-sm==3.7.0) (0.1.4)\n",
            "Requirement already satisfied: click<9.0.0,>=7.1.1 in /usr/local/lib/python3.10/dist-packages (from typer<0.10.0,>=0.3.0->spacy<3.8.0,>=3.7.0->pt-core-news-sm==3.7.0) (8.1.7)\n",
            "Requirement already satisfied: cloudpathlib<0.17.0,>=0.7.0 in /usr/local/lib/python3.10/dist-packages (from weasel<0.4.0,>=0.1.0->spacy<3.8.0,>=3.7.0->pt-core-news-sm==3.7.0) (0.16.0)\n",
            "Requirement already satisfied: MarkupSafe>=2.0 in /usr/local/lib/python3.10/dist-packages (from jinja2->spacy<3.8.0,>=3.7.0->pt-core-news-sm==3.7.0) (2.1.5)\n",
            "Installing collected packages: pt-core-news-sm\n",
            "Successfully installed pt-core-news-sm-3.7.0\n",
            "\u001b[38;5;2m✔ Download and installation successful\u001b[0m\n",
            "You can now load the package via spacy.load('pt_core_news_sm')\n",
            "\u001b[38;5;3m⚠ Restart to reload dependencies\u001b[0m\n",
            "If you are in a Jupyter or Colab notebook, you may need to restart Python in\n",
            "order to load all the package's dependencies. You can do this by selecting the\n",
            "'Restart kernel' or 'Restart runtime' option.\n",
            "Collecting streamlit\n",
            "  Downloading streamlit-1.32.2-py2.py3-none-any.whl (8.1 MB)\n",
            "\u001b[2K     \u001b[90m━━━━━━━━━━━━━━━━━━━━━━━━━━━━━━━━━━━━━━━━\u001b[0m \u001b[32m8.1/8.1 MB\u001b[0m \u001b[31m17.9 MB/s\u001b[0m eta \u001b[36m0:00:00\u001b[0m\n",
            "\u001b[?25hRequirement already satisfied: altair<6,>=4.0 in /usr/local/lib/python3.10/dist-packages (from streamlit) (4.2.2)\n",
            "Requirement already satisfied: blinker<2,>=1.0.0 in /usr/lib/python3/dist-packages (from streamlit) (1.4)\n",
            "Requirement already satisfied: cachetools<6,>=4.0 in /usr/local/lib/python3.10/dist-packages (from streamlit) (5.3.3)\n",
            "Requirement already satisfied: click<9,>=7.0 in /usr/local/lib/python3.10/dist-packages (from streamlit) (8.1.7)\n",
            "Requirement already satisfied: numpy<2,>=1.19.3 in /usr/local/lib/python3.10/dist-packages (from streamlit) (1.25.2)\n",
            "Collecting packaging<24,>=16.8 (from streamlit)\n",
            "  Downloading packaging-23.2-py3-none-any.whl (53 kB)\n",
            "\u001b[2K     \u001b[90m━━━━━━━━━━━━━━━━━━━━━━━━━━━━━━━━━━━━━━━━\u001b[0m \u001b[32m53.0/53.0 kB\u001b[0m \u001b[31m5.1 MB/s\u001b[0m eta \u001b[36m0:00:00\u001b[0m\n",
            "\u001b[?25hRequirement already satisfied: pandas<3,>=1.3.0 in /usr/local/lib/python3.10/dist-packages (from streamlit) (1.5.3)\n",
            "Requirement already satisfied: pillow<11,>=7.1.0 in /usr/local/lib/python3.10/dist-packages (from streamlit) (9.4.0)\n",
            "Requirement already satisfied: protobuf<5,>=3.20 in /usr/local/lib/python3.10/dist-packages (from streamlit) (3.20.3)\n",
            "Requirement already satisfied: pyarrow>=7.0 in /usr/local/lib/python3.10/dist-packages (from streamlit) (14.0.2)\n",
            "Requirement already satisfied: requests<3,>=2.27 in /usr/local/lib/python3.10/dist-packages (from streamlit) (2.31.0)\n",
            "Requirement already satisfied: rich<14,>=10.14.0 in /usr/local/lib/python3.10/dist-packages (from streamlit) (13.7.1)\n",
            "Requirement already satisfied: tenacity<9,>=8.1.0 in /usr/local/lib/python3.10/dist-packages (from streamlit) (8.2.3)\n",
            "Requirement already satisfied: toml<2,>=0.10.1 in /usr/local/lib/python3.10/dist-packages (from streamlit) (0.10.2)\n",
            "Requirement already satisfied: typing-extensions<5,>=4.3.0 in /usr/local/lib/python3.10/dist-packages (from streamlit) (4.10.0)\n",
            "Collecting gitpython!=3.1.19,<4,>=3.0.7 (from streamlit)\n",
            "  Downloading GitPython-3.1.42-py3-none-any.whl (195 kB)\n",
            "\u001b[2K     \u001b[90m━━━━━━━━━━━━━━━━━━━━━━━━━━━━━━━━━━━━━━━━\u001b[0m \u001b[32m195.4/195.4 kB\u001b[0m \u001b[31m19.0 MB/s\u001b[0m eta \u001b[36m0:00:00\u001b[0m\n",
            "\u001b[?25hCollecting pydeck<1,>=0.8.0b4 (from streamlit)\n",
            "  Downloading pydeck-0.8.1b0-py2.py3-none-any.whl (4.8 MB)\n",
            "\u001b[2K     \u001b[90m━━━━━━━━━━━━━━━━━━━━━━━━━━━━━━━━━━━━━━━━\u001b[0m \u001b[32m4.8/4.8 MB\u001b[0m \u001b[31m36.6 MB/s\u001b[0m eta \u001b[36m0:00:00\u001b[0m\n",
            "\u001b[?25hRequirement already satisfied: tornado<7,>=6.0.3 in /usr/local/lib/python3.10/dist-packages (from streamlit) (6.3.3)\n",
            "Collecting watchdog>=2.1.5 (from streamlit)\n",
            "  Downloading watchdog-4.0.0-py3-none-manylinux2014_x86_64.whl (82 kB)\n",
            "\u001b[2K     \u001b[90m━━━━━━━━━━━━━━━━━━━━━━━━━━━━━━━━━━━━━━━━\u001b[0m \u001b[32m83.0/83.0 kB\u001b[0m \u001b[31m8.3 MB/s\u001b[0m eta \u001b[36m0:00:00\u001b[0m\n",
            "\u001b[?25hRequirement already satisfied: entrypoints in /usr/local/lib/python3.10/dist-packages (from altair<6,>=4.0->streamlit) (0.4)\n",
            "Requirement already satisfied: jinja2 in /usr/local/lib/python3.10/dist-packages (from altair<6,>=4.0->streamlit) (3.1.3)\n",
            "Requirement already satisfied: jsonschema>=3.0 in /usr/local/lib/python3.10/dist-packages (from altair<6,>=4.0->streamlit) (4.19.2)\n",
            "Requirement already satisfied: toolz in /usr/local/lib/python3.10/dist-packages (from altair<6,>=4.0->streamlit) (0.12.1)\n",
            "Collecting gitdb<5,>=4.0.1 (from gitpython!=3.1.19,<4,>=3.0.7->streamlit)\n",
            "  Downloading gitdb-4.0.11-py3-none-any.whl (62 kB)\n",
            "\u001b[2K     \u001b[90m━━━━━━━━━━━━━━━━━━━━━━━━━━━━━━━━━━━━━━━━\u001b[0m \u001b[32m62.7/62.7 kB\u001b[0m \u001b[31m6.6 MB/s\u001b[0m eta \u001b[36m0:00:00\u001b[0m\n",
            "\u001b[?25hRequirement already satisfied: python-dateutil>=2.8.1 in /usr/local/lib/python3.10/dist-packages (from pandas<3,>=1.3.0->streamlit) (2.8.2)\n",
            "Requirement already satisfied: pytz>=2020.1 in /usr/local/lib/python3.10/dist-packages (from pandas<3,>=1.3.0->streamlit) (2023.4)\n",
            "Requirement already satisfied: charset-normalizer<4,>=2 in /usr/local/lib/python3.10/dist-packages (from requests<3,>=2.27->streamlit) (3.3.2)\n",
            "Requirement already satisfied: idna<4,>=2.5 in /usr/local/lib/python3.10/dist-packages (from requests<3,>=2.27->streamlit) (3.6)\n",
            "Requirement already satisfied: urllib3<3,>=1.21.1 in /usr/local/lib/python3.10/dist-packages (from requests<3,>=2.27->streamlit) (2.0.7)\n",
            "Requirement already satisfied: certifi>=2017.4.17 in /usr/local/lib/python3.10/dist-packages (from requests<3,>=2.27->streamlit) (2024.2.2)\n",
            "Requirement already satisfied: markdown-it-py>=2.2.0 in /usr/local/lib/python3.10/dist-packages (from rich<14,>=10.14.0->streamlit) (3.0.0)\n",
            "Requirement already satisfied: pygments<3.0.0,>=2.13.0 in /usr/local/lib/python3.10/dist-packages (from rich<14,>=10.14.0->streamlit) (2.16.1)\n",
            "Collecting smmap<6,>=3.0.1 (from gitdb<5,>=4.0.1->gitpython!=3.1.19,<4,>=3.0.7->streamlit)\n",
            "  Downloading smmap-5.0.1-py3-none-any.whl (24 kB)\n",
            "Requirement already satisfied: MarkupSafe>=2.0 in /usr/local/lib/python3.10/dist-packages (from jinja2->altair<6,>=4.0->streamlit) (2.1.5)\n",
            "Requirement already satisfied: attrs>=22.2.0 in /usr/local/lib/python3.10/dist-packages (from jsonschema>=3.0->altair<6,>=4.0->streamlit) (23.2.0)\n",
            "Requirement already satisfied: jsonschema-specifications>=2023.03.6 in /usr/local/lib/python3.10/dist-packages (from jsonschema>=3.0->altair<6,>=4.0->streamlit) (2023.12.1)\n",
            "Requirement already satisfied: referencing>=0.28.4 in /usr/local/lib/python3.10/dist-packages (from jsonschema>=3.0->altair<6,>=4.0->streamlit) (0.34.0)\n",
            "Requirement already satisfied: rpds-py>=0.7.1 in /usr/local/lib/python3.10/dist-packages (from jsonschema>=3.0->altair<6,>=4.0->streamlit) (0.18.0)\n",
            "Requirement already satisfied: mdurl~=0.1 in /usr/local/lib/python3.10/dist-packages (from markdown-it-py>=2.2.0->rich<14,>=10.14.0->streamlit) (0.1.2)\n",
            "Requirement already satisfied: six>=1.5 in /usr/local/lib/python3.10/dist-packages (from python-dateutil>=2.8.1->pandas<3,>=1.3.0->streamlit) (1.16.0)\n",
            "Installing collected packages: watchdog, smmap, packaging, pydeck, gitdb, gitpython, streamlit\n",
            "  Attempting uninstall: packaging\n",
            "    Found existing installation: packaging 24.0\n",
            "    Uninstalling packaging-24.0:\n",
            "      Successfully uninstalled packaging-24.0\n",
            "Successfully installed gitdb-4.0.11 gitpython-3.1.42 packaging-23.2 pydeck-0.8.1b0 smmap-5.0.1 streamlit-1.32.2 watchdog-4.0.0\n",
            "Collecting streamlit_jupyter\n",
            "  Downloading streamlit_jupyter-0.2.1-py3-none-any.whl (13 kB)\n",
            "Requirement already satisfied: fastcore in /usr/local/lib/python3.10/dist-packages (from streamlit_jupyter) (1.5.29)\n",
            "Collecting ipywidgets==7.7.2 (from streamlit_jupyter)\n",
            "  Downloading ipywidgets-7.7.2-py2.py3-none-any.whl (123 kB)\n",
            "\u001b[2K     \u001b[90m━━━━━━━━━━━━━━━━━━━━━━━━━━━━━━━━━━━━━━━━\u001b[0m \u001b[32m123.4/123.4 kB\u001b[0m \u001b[31m2.8 MB/s\u001b[0m eta \u001b[36m0:00:00\u001b[0m\n",
            "\u001b[?25hCollecting jupyter (from streamlit_jupyter)\n",
            "  Downloading jupyter-1.0.0-py2.py3-none-any.whl (2.7 kB)\n",
            "Collecting stqdm (from streamlit_jupyter)\n",
            "  Downloading stqdm-0.0.5-py3-none-any.whl (11 kB)\n",
            "Requirement already satisfied: streamlit>=1.19 in /usr/local/lib/python3.10/dist-packages (from streamlit_jupyter) (1.32.2)\n",
            "Requirement already satisfied: tabulate in /usr/local/lib/python3.10/dist-packages (from streamlit_jupyter) (0.9.0)\n",
            "Requirement already satisfied: tqdm in /usr/local/lib/python3.10/dist-packages (from streamlit_jupyter) (4.66.2)\n",
            "Requirement already satisfied: ipykernel>=4.5.1 in /usr/local/lib/python3.10/dist-packages (from ipywidgets==7.7.2->streamlit_jupyter) (5.5.6)\n",
            "Requirement already satisfied: ipython-genutils~=0.2.0 in /usr/local/lib/python3.10/dist-packages (from ipywidgets==7.7.2->streamlit_jupyter) (0.2.0)\n",
            "Requirement already satisfied: traitlets>=4.3.1 in /usr/local/lib/python3.10/dist-packages (from ipywidgets==7.7.2->streamlit_jupyter) (5.7.1)\n",
            "Requirement already satisfied: widgetsnbextension~=3.6.0 in /usr/local/lib/python3.10/dist-packages (from ipywidgets==7.7.2->streamlit_jupyter) (3.6.6)\n",
            "Requirement already satisfied: ipython>=4.0.0 in /usr/local/lib/python3.10/dist-packages (from ipywidgets==7.7.2->streamlit_jupyter) (7.34.0)\n",
            "Collecting jupyterlab-widgets<3,>=1.0.0 (from ipywidgets==7.7.2->streamlit_jupyter)\n",
            "  Downloading jupyterlab_widgets-1.1.7-py3-none-any.whl (295 kB)\n",
            "\u001b[2K     \u001b[90m━━━━━━━━━━━━━━━━━━━━━━━━━━━━━━━━━━━━━━━━\u001b[0m \u001b[32m295.4/295.4 kB\u001b[0m \u001b[31m7.7 MB/s\u001b[0m eta \u001b[36m0:00:00\u001b[0m\n",
            "\u001b[?25hRequirement already satisfied: altair<6,>=4.0 in /usr/local/lib/python3.10/dist-packages (from streamlit>=1.19->streamlit_jupyter) (4.2.2)\n",
            "Requirement already satisfied: blinker<2,>=1.0.0 in /usr/lib/python3/dist-packages (from streamlit>=1.19->streamlit_jupyter) (1.4)\n",
            "Requirement already satisfied: cachetools<6,>=4.0 in /usr/local/lib/python3.10/dist-packages (from streamlit>=1.19->streamlit_jupyter) (5.3.3)\n",
            "Requirement already satisfied: click<9,>=7.0 in /usr/local/lib/python3.10/dist-packages (from streamlit>=1.19->streamlit_jupyter) (8.1.7)\n",
            "Requirement already satisfied: numpy<2,>=1.19.3 in /usr/local/lib/python3.10/dist-packages (from streamlit>=1.19->streamlit_jupyter) (1.25.2)\n",
            "Requirement already satisfied: packaging<24,>=16.8 in /usr/local/lib/python3.10/dist-packages (from streamlit>=1.19->streamlit_jupyter) (23.2)\n",
            "Requirement already satisfied: pandas<3,>=1.3.0 in /usr/local/lib/python3.10/dist-packages (from streamlit>=1.19->streamlit_jupyter) (1.5.3)\n",
            "Requirement already satisfied: pillow<11,>=7.1.0 in /usr/local/lib/python3.10/dist-packages (from streamlit>=1.19->streamlit_jupyter) (9.4.0)\n",
            "Requirement already satisfied: protobuf<5,>=3.20 in /usr/local/lib/python3.10/dist-packages (from streamlit>=1.19->streamlit_jupyter) (3.20.3)\n",
            "Requirement already satisfied: pyarrow>=7.0 in /usr/local/lib/python3.10/dist-packages (from streamlit>=1.19->streamlit_jupyter) (14.0.2)\n",
            "Requirement already satisfied: requests<3,>=2.27 in /usr/local/lib/python3.10/dist-packages (from streamlit>=1.19->streamlit_jupyter) (2.31.0)\n",
            "Requirement already satisfied: rich<14,>=10.14.0 in /usr/local/lib/python3.10/dist-packages (from streamlit>=1.19->streamlit_jupyter) (13.7.1)\n",
            "Requirement already satisfied: tenacity<9,>=8.1.0 in /usr/local/lib/python3.10/dist-packages (from streamlit>=1.19->streamlit_jupyter) (8.2.3)\n",
            "Requirement already satisfied: toml<2,>=0.10.1 in /usr/local/lib/python3.10/dist-packages (from streamlit>=1.19->streamlit_jupyter) (0.10.2)\n",
            "Requirement already satisfied: typing-extensions<5,>=4.3.0 in /usr/local/lib/python3.10/dist-packages (from streamlit>=1.19->streamlit_jupyter) (4.10.0)\n",
            "Requirement already satisfied: gitpython!=3.1.19,<4,>=3.0.7 in /usr/local/lib/python3.10/dist-packages (from streamlit>=1.19->streamlit_jupyter) (3.1.42)\n",
            "Requirement already satisfied: pydeck<1,>=0.8.0b4 in /usr/local/lib/python3.10/dist-packages (from streamlit>=1.19->streamlit_jupyter) (0.8.1b0)\n",
            "Requirement already satisfied: tornado<7,>=6.0.3 in /usr/local/lib/python3.10/dist-packages (from streamlit>=1.19->streamlit_jupyter) (6.3.3)\n",
            "Requirement already satisfied: watchdog>=2.1.5 in /usr/local/lib/python3.10/dist-packages (from streamlit>=1.19->streamlit_jupyter) (4.0.0)\n",
            "Requirement already satisfied: pip in /usr/local/lib/python3.10/dist-packages (from fastcore->streamlit_jupyter) (23.1.2)\n",
            "Requirement already satisfied: notebook in /usr/local/lib/python3.10/dist-packages (from jupyter->streamlit_jupyter) (6.5.5)\n",
            "Collecting qtconsole (from jupyter->streamlit_jupyter)\n",
            "  Downloading qtconsole-5.5.1-py3-none-any.whl (123 kB)\n",
            "\u001b[2K     \u001b[90m━━━━━━━━━━━━━━━━━━━━━━━━━━━━━━━━━━━━━━━━\u001b[0m \u001b[32m123.4/123.4 kB\u001b[0m \u001b[31m585.3 kB/s\u001b[0m eta \u001b[36m0:00:00\u001b[0m\n",
            "\u001b[?25hRequirement already satisfied: jupyter-console in /usr/local/lib/python3.10/dist-packages (from jupyter->streamlit_jupyter) (6.1.0)\n",
            "Requirement already satisfied: nbconvert in /usr/local/lib/python3.10/dist-packages (from jupyter->streamlit_jupyter) (6.5.4)\n",
            "Requirement already satisfied: entrypoints in /usr/local/lib/python3.10/dist-packages (from altair<6,>=4.0->streamlit>=1.19->streamlit_jupyter) (0.4)\n",
            "Requirement already satisfied: jinja2 in /usr/local/lib/python3.10/dist-packages (from altair<6,>=4.0->streamlit>=1.19->streamlit_jupyter) (3.1.3)\n",
            "Requirement already satisfied: jsonschema>=3.0 in /usr/local/lib/python3.10/dist-packages (from altair<6,>=4.0->streamlit>=1.19->streamlit_jupyter) (4.19.2)\n",
            "Requirement already satisfied: toolz in /usr/local/lib/python3.10/dist-packages (from altair<6,>=4.0->streamlit>=1.19->streamlit_jupyter) (0.12.1)\n",
            "Requirement already satisfied: gitdb<5,>=4.0.1 in /usr/local/lib/python3.10/dist-packages (from gitpython!=3.1.19,<4,>=3.0.7->streamlit>=1.19->streamlit_jupyter) (4.0.11)\n",
            "Requirement already satisfied: jupyter-client in /usr/local/lib/python3.10/dist-packages (from ipykernel>=4.5.1->ipywidgets==7.7.2->streamlit_jupyter) (6.1.12)\n",
            "Requirement already satisfied: setuptools>=18.5 in /usr/local/lib/python3.10/dist-packages (from ipython>=4.0.0->ipywidgets==7.7.2->streamlit_jupyter) (67.7.2)\n",
            "Collecting jedi>=0.16 (from ipython>=4.0.0->ipywidgets==7.7.2->streamlit_jupyter)\n",
            "  Downloading jedi-0.19.1-py2.py3-none-any.whl (1.6 MB)\n",
            "\u001b[2K     \u001b[90m━━━━━━━━━━━━━━━━━━━━━━━━━━━━━━━━━━━━━━━━\u001b[0m \u001b[32m1.6/1.6 MB\u001b[0m \u001b[31m10.7 MB/s\u001b[0m eta \u001b[36m0:00:00\u001b[0m\n",
            "\u001b[?25hRequirement already satisfied: decorator in /usr/local/lib/python3.10/dist-packages (from ipython>=4.0.0->ipywidgets==7.7.2->streamlit_jupyter) (4.4.2)\n",
            "Requirement already satisfied: pickleshare in /usr/local/lib/python3.10/dist-packages (from ipython>=4.0.0->ipywidgets==7.7.2->streamlit_jupyter) (0.7.5)\n",
            "Requirement already satisfied: prompt-toolkit!=3.0.0,!=3.0.1,<3.1.0,>=2.0.0 in /usr/local/lib/python3.10/dist-packages (from ipython>=4.0.0->ipywidgets==7.7.2->streamlit_jupyter) (3.0.43)\n",
            "Requirement already satisfied: pygments in /usr/local/lib/python3.10/dist-packages (from ipython>=4.0.0->ipywidgets==7.7.2->streamlit_jupyter) (2.16.1)\n",
            "Requirement already satisfied: backcall in /usr/local/lib/python3.10/dist-packages (from ipython>=4.0.0->ipywidgets==7.7.2->streamlit_jupyter) (0.2.0)\n",
            "Requirement already satisfied: matplotlib-inline in /usr/local/lib/python3.10/dist-packages (from ipython>=4.0.0->ipywidgets==7.7.2->streamlit_jupyter) (0.1.6)\n",
            "Requirement already satisfied: pexpect>4.3 in /usr/local/lib/python3.10/dist-packages (from ipython>=4.0.0->ipywidgets==7.7.2->streamlit_jupyter) (4.9.0)\n",
            "Requirement already satisfied: python-dateutil>=2.8.1 in /usr/local/lib/python3.10/dist-packages (from pandas<3,>=1.3.0->streamlit>=1.19->streamlit_jupyter) (2.8.2)\n",
            "Requirement already satisfied: pytz>=2020.1 in /usr/local/lib/python3.10/dist-packages (from pandas<3,>=1.3.0->streamlit>=1.19->streamlit_jupyter) (2023.4)\n",
            "Requirement already satisfied: charset-normalizer<4,>=2 in /usr/local/lib/python3.10/dist-packages (from requests<3,>=2.27->streamlit>=1.19->streamlit_jupyter) (3.3.2)\n",
            "Requirement already satisfied: idna<4,>=2.5 in /usr/local/lib/python3.10/dist-packages (from requests<3,>=2.27->streamlit>=1.19->streamlit_jupyter) (3.6)\n",
            "Requirement already satisfied: urllib3<3,>=1.21.1 in /usr/local/lib/python3.10/dist-packages (from requests<3,>=2.27->streamlit>=1.19->streamlit_jupyter) (2.0.7)\n",
            "Requirement already satisfied: certifi>=2017.4.17 in /usr/local/lib/python3.10/dist-packages (from requests<3,>=2.27->streamlit>=1.19->streamlit_jupyter) (2024.2.2)\n",
            "Requirement already satisfied: markdown-it-py>=2.2.0 in /usr/local/lib/python3.10/dist-packages (from rich<14,>=10.14.0->streamlit>=1.19->streamlit_jupyter) (3.0.0)\n",
            "Requirement already satisfied: pyzmq<25,>=17 in /usr/local/lib/python3.10/dist-packages (from notebook->jupyter->streamlit_jupyter) (23.2.1)\n",
            "Requirement already satisfied: argon2-cffi in /usr/local/lib/python3.10/dist-packages (from notebook->jupyter->streamlit_jupyter) (23.1.0)\n",
            "Requirement already satisfied: jupyter-core>=4.6.1 in /usr/local/lib/python3.10/dist-packages (from notebook->jupyter->streamlit_jupyter) (5.7.2)\n",
            "Requirement already satisfied: nbformat in /usr/local/lib/python3.10/dist-packages (from notebook->jupyter->streamlit_jupyter) (5.10.3)\n",
            "Requirement already satisfied: nest-asyncio>=1.5 in /usr/local/lib/python3.10/dist-packages (from notebook->jupyter->streamlit_jupyter) (1.6.0)\n",
            "Requirement already satisfied: Send2Trash>=1.8.0 in /usr/local/lib/python3.10/dist-packages (from notebook->jupyter->streamlit_jupyter) (1.8.2)\n",
            "Requirement already satisfied: terminado>=0.8.3 in /usr/local/lib/python3.10/dist-packages (from notebook->jupyter->streamlit_jupyter) (0.18.1)\n",
            "Requirement already satisfied: prometheus-client in /usr/local/lib/python3.10/dist-packages (from notebook->jupyter->streamlit_jupyter) (0.20.0)\n",
            "Requirement already satisfied: nbclassic>=0.4.7 in /usr/local/lib/python3.10/dist-packages (from notebook->jupyter->streamlit_jupyter) (1.0.0)\n",
            "Requirement already satisfied: lxml in /usr/local/lib/python3.10/dist-packages (from nbconvert->jupyter->streamlit_jupyter) (4.9.4)\n",
            "Requirement already satisfied: beautifulsoup4 in /usr/local/lib/python3.10/dist-packages (from nbconvert->jupyter->streamlit_jupyter) (4.12.3)\n",
            "Requirement already satisfied: bleach in /usr/local/lib/python3.10/dist-packages (from nbconvert->jupyter->streamlit_jupyter) (6.1.0)\n",
            "Requirement already satisfied: defusedxml in /usr/local/lib/python3.10/dist-packages (from nbconvert->jupyter->streamlit_jupyter) (0.7.1)\n",
            "Requirement already satisfied: jupyterlab-pygments in /usr/local/lib/python3.10/dist-packages (from nbconvert->jupyter->streamlit_jupyter) (0.3.0)\n",
            "Requirement already satisfied: MarkupSafe>=2.0 in /usr/local/lib/python3.10/dist-packages (from nbconvert->jupyter->streamlit_jupyter) (2.1.5)\n",
            "Requirement already satisfied: mistune<2,>=0.8.1 in /usr/local/lib/python3.10/dist-packages (from nbconvert->jupyter->streamlit_jupyter) (0.8.4)\n",
            "Requirement already satisfied: nbclient>=0.5.0 in /usr/local/lib/python3.10/dist-packages (from nbconvert->jupyter->streamlit_jupyter) (0.10.0)\n",
            "Requirement already satisfied: pandocfilters>=1.4.1 in /usr/local/lib/python3.10/dist-packages (from nbconvert->jupyter->streamlit_jupyter) (1.5.1)\n",
            "Requirement already satisfied: tinycss2 in /usr/local/lib/python3.10/dist-packages (from nbconvert->jupyter->streamlit_jupyter) (1.2.1)\n",
            "Collecting qtpy>=2.4.0 (from qtconsole->jupyter->streamlit_jupyter)\n",
            "  Downloading QtPy-2.4.1-py3-none-any.whl (93 kB)\n",
            "\u001b[2K     \u001b[90m━━━━━━━━━━━━━━━━━━━━━━━━━━━━━━━━━━━━━━━━\u001b[0m \u001b[32m93.5/93.5 kB\u001b[0m \u001b[31m9.9 MB/s\u001b[0m eta \u001b[36m0:00:00\u001b[0m\n",
            "\u001b[?25hRequirement already satisfied: smmap<6,>=3.0.1 in /usr/local/lib/python3.10/dist-packages (from gitdb<5,>=4.0.1->gitpython!=3.1.19,<4,>=3.0.7->streamlit>=1.19->streamlit_jupyter) (5.0.1)\n",
            "Requirement already satisfied: parso<0.9.0,>=0.8.3 in /usr/local/lib/python3.10/dist-packages (from jedi>=0.16->ipython>=4.0.0->ipywidgets==7.7.2->streamlit_jupyter) (0.8.3)\n",
            "Requirement already satisfied: attrs>=22.2.0 in /usr/local/lib/python3.10/dist-packages (from jsonschema>=3.0->altair<6,>=4.0->streamlit>=1.19->streamlit_jupyter) (23.2.0)\n",
            "Requirement already satisfied: jsonschema-specifications>=2023.03.6 in /usr/local/lib/python3.10/dist-packages (from jsonschema>=3.0->altair<6,>=4.0->streamlit>=1.19->streamlit_jupyter) (2023.12.1)\n",
            "Requirement already satisfied: referencing>=0.28.4 in /usr/local/lib/python3.10/dist-packages (from jsonschema>=3.0->altair<6,>=4.0->streamlit>=1.19->streamlit_jupyter) (0.34.0)\n",
            "Requirement already satisfied: rpds-py>=0.7.1 in /usr/local/lib/python3.10/dist-packages (from jsonschema>=3.0->altair<6,>=4.0->streamlit>=1.19->streamlit_jupyter) (0.18.0)\n",
            "Requirement already satisfied: platformdirs>=2.5 in /usr/local/lib/python3.10/dist-packages (from jupyter-core>=4.6.1->notebook->jupyter->streamlit_jupyter) (4.2.0)\n",
            "Requirement already satisfied: mdurl~=0.1 in /usr/local/lib/python3.10/dist-packages (from markdown-it-py>=2.2.0->rich<14,>=10.14.0->streamlit>=1.19->streamlit_jupyter) (0.1.2)\n",
            "Requirement already satisfied: jupyter-server>=1.8 in /usr/local/lib/python3.10/dist-packages (from nbclassic>=0.4.7->notebook->jupyter->streamlit_jupyter) (1.24.0)\n",
            "Requirement already satisfied: notebook-shim>=0.2.3 in /usr/local/lib/python3.10/dist-packages (from nbclassic>=0.4.7->notebook->jupyter->streamlit_jupyter) (0.2.4)\n",
            "Requirement already satisfied: fastjsonschema in /usr/local/lib/python3.10/dist-packages (from nbformat->notebook->jupyter->streamlit_jupyter) (2.19.1)\n",
            "Requirement already satisfied: ptyprocess>=0.5 in /usr/local/lib/python3.10/dist-packages (from pexpect>4.3->ipython>=4.0.0->ipywidgets==7.7.2->streamlit_jupyter) (0.7.0)\n",
            "Requirement already satisfied: wcwidth in /usr/local/lib/python3.10/dist-packages (from prompt-toolkit!=3.0.0,!=3.0.1,<3.1.0,>=2.0.0->ipython>=4.0.0->ipywidgets==7.7.2->streamlit_jupyter) (0.2.13)\n",
            "Requirement already satisfied: six>=1.5 in /usr/local/lib/python3.10/dist-packages (from python-dateutil>=2.8.1->pandas<3,>=1.3.0->streamlit>=1.19->streamlit_jupyter) (1.16.0)\n",
            "Requirement already satisfied: argon2-cffi-bindings in /usr/local/lib/python3.10/dist-packages (from argon2-cffi->notebook->jupyter->streamlit_jupyter) (21.2.0)\n",
            "Requirement already satisfied: soupsieve>1.2 in /usr/local/lib/python3.10/dist-packages (from beautifulsoup4->nbconvert->jupyter->streamlit_jupyter) (2.5)\n",
            "Requirement already satisfied: webencodings in /usr/local/lib/python3.10/dist-packages (from bleach->nbconvert->jupyter->streamlit_jupyter) (0.5.1)\n",
            "Requirement already satisfied: anyio<4,>=3.1.0 in /usr/local/lib/python3.10/dist-packages (from jupyter-server>=1.8->nbclassic>=0.4.7->notebook->jupyter->streamlit_jupyter) (3.7.1)\n",
            "Requirement already satisfied: websocket-client in /usr/local/lib/python3.10/dist-packages (from jupyter-server>=1.8->nbclassic>=0.4.7->notebook->jupyter->streamlit_jupyter) (1.7.0)\n",
            "Requirement already satisfied: cffi>=1.0.1 in /usr/local/lib/python3.10/dist-packages (from argon2-cffi-bindings->argon2-cffi->notebook->jupyter->streamlit_jupyter) (1.16.0)\n",
            "Requirement already satisfied: sniffio>=1.1 in /usr/local/lib/python3.10/dist-packages (from anyio<4,>=3.1.0->jupyter-server>=1.8->nbclassic>=0.4.7->notebook->jupyter->streamlit_jupyter) (1.3.1)\n",
            "Requirement already satisfied: exceptiongroup in /usr/local/lib/python3.10/dist-packages (from anyio<4,>=3.1.0->jupyter-server>=1.8->nbclassic>=0.4.7->notebook->jupyter->streamlit_jupyter) (1.2.0)\n",
            "Requirement already satisfied: pycparser in /usr/local/lib/python3.10/dist-packages (from cffi>=1.0.1->argon2-cffi-bindings->argon2-cffi->notebook->jupyter->streamlit_jupyter) (2.21)\n",
            "Installing collected packages: qtpy, jupyterlab-widgets, jedi, qtconsole, stqdm, ipywidgets, jupyter, streamlit_jupyter\n",
            "  Attempting uninstall: jupyterlab-widgets\n",
            "    Found existing installation: jupyterlab_widgets 3.0.10\n",
            "    Uninstalling jupyterlab_widgets-3.0.10:\n",
            "      Successfully uninstalled jupyterlab_widgets-3.0.10\n",
            "  Attempting uninstall: ipywidgets\n",
            "    Found existing installation: ipywidgets 7.7.1\n",
            "    Uninstalling ipywidgets-7.7.1:\n",
            "      Successfully uninstalled ipywidgets-7.7.1\n",
            "Successfully installed ipywidgets-7.7.2 jedi-0.19.1 jupyter-1.0.0 jupyterlab-widgets-1.1.7 qtconsole-5.5.1 qtpy-2.4.1 stqdm-0.0.5 streamlit_jupyter-0.2.1\n"
          ]
        }
      ]
    },
    {
      "cell_type": "code",
      "source": [
        "nlp = spc.load(\"pt_core_news_sm\")"
      ],
      "metadata": {
        "id": "XDzfY37RKScQ"
      },
      "execution_count": null,
      "outputs": []
    },
    {
      "cell_type": "code",
      "source": [
        "teste = \"Teste dos tokens aí ó, batata martelo Grécia abacate Abacate maçã Rodrigo ashsrd aaaaa os as eles 33    a\""
      ],
      "metadata": {
        "id": "Y5Bh9xgvNWsK"
      },
      "execution_count": null,
      "outputs": []
    },
    {
      "cell_type": "code",
      "source": [
        "filtrado = nlp(teste)"
      ],
      "metadata": {
        "id": "7OGvvuf8OBx2"
      },
      "execution_count": null,
      "outputs": []
    },
    {
      "cell_type": "code",
      "source": [
        "print(f\"Word\\t\\t|usual?|stop?\\t|punc.?\\t|num.?\\t|space?\")\n",
        "print(80*\"-\")\n",
        "for w in filtrado: print(f\"{w}\\t\\t|{w.ent_type==0}\\t|{w.is_stop}\\t|{w.is_punct}\\t|{w.is_digit}\\t|{w.is_space}\\t|{w.text.lower()}\")"
      ],
      "metadata": {
        "colab": {
          "base_uri": "https://localhost:8080/"
        },
        "id": "j6zvaPR2V4aP",
        "outputId": "ec960200-cd7c-4089-cc42-debcf95d7ea2"
      },
      "execution_count": null,
      "outputs": [
        {
          "output_type": "stream",
          "name": "stdout",
          "text": [
            "Word\t\t|usual?|stop?\t|punc.?\t|num.?\t|space?\n",
            "--------------------------------------------------------------------------------\n",
            "Teste\t\t|True\t|False\t|False\t|False\t|False\t|teste\n",
            "dos\t\t|True\t|True\t|False\t|False\t|False\t|dos\n",
            "tokens\t\t|True\t|False\t|False\t|False\t|False\t|tokens\n",
            "aí\t\t|True\t|True\t|False\t|False\t|False\t|aí\n",
            "ó\t\t|True\t|False\t|False\t|False\t|False\t|ó\n",
            ",\t\t|True\t|False\t|True\t|False\t|False\t|,\n",
            "batata\t\t|True\t|False\t|False\t|False\t|False\t|batata\n",
            "martelo\t\t|True\t|False\t|False\t|False\t|False\t|martelo\n",
            "Grécia\t\t|False\t|False\t|False\t|False\t|False\t|grécia\n",
            "abacate\t\t|True\t|False\t|False\t|False\t|False\t|abacate\n",
            "Abacate\t\t|False\t|False\t|False\t|False\t|False\t|abacate\n",
            "maçã\t\t|True\t|False\t|False\t|False\t|False\t|maçã\n",
            "Rodrigo\t\t|False\t|False\t|False\t|False\t|False\t|rodrigo\n",
            "ashsrd\t\t|True\t|False\t|False\t|False\t|False\t|ashsrd\n",
            "aaaaa\t\t|True\t|False\t|False\t|False\t|False\t|aaaaa\n",
            "os\t\t|True\t|True\t|False\t|False\t|False\t|os\n",
            "as\t\t|True\t|True\t|False\t|False\t|False\t|as\n",
            "eles\t\t|True\t|True\t|False\t|False\t|False\t|eles\n",
            "33\t\t|True\t|False\t|False\t|True\t|False\t|33\n",
            "   \t\t|True\t|False\t|False\t|False\t|True\t|   \n",
            "a\t\t|True\t|True\t|False\t|False\t|False\t|a\n"
          ]
        }
      ]
    },
    {
      "cell_type": "code",
      "source": [
        "[w.text.lower() for w in filtrado if w.ent_type==0 and not (w.is_stop or w.is_punct or w.is_digit or w.is_space)]"
      ],
      "metadata": {
        "colab": {
          "base_uri": "https://localhost:8080/"
        },
        "id": "eh7pfyrqXNAA",
        "outputId": "097d6599-0bdb-429d-821f-f43da6e3cf47"
      },
      "execution_count": null,
      "outputs": [
        {
          "output_type": "execute_result",
          "data": {
            "text/plain": [
              "['teste',\n",
              " 'tokens',\n",
              " 'ó',\n",
              " 'batata',\n",
              " 'martelo',\n",
              " 'abacate',\n",
              " 'maçã',\n",
              " 'ashsrd',\n",
              " 'aaaaa']"
            ]
          },
          "metadata": {},
          "execution_count": 9
        }
      ]
    },
    {
      "cell_type": "markdown",
      "source": [
        "## Downloading the corpus\n",
        "It will be \"Cancioneiro\", from Fernando Pessoa to a more common text.\n",
        "And, for recreative purposes, \"Carta de hum cidadam de Genova a hum seu correspondente em Londres\", obtained in Project Gutenberg: https://www.gutenberg.org/cache/epub/18528/pg18528.txt\n"
      ],
      "metadata": {
        "id": "QRbjlBTRszB9"
      }
    },
    {
      "cell_type": "code",
      "source": [
        "!curl https://raw.githubusercontent.com/Marcos7765/AEDII/main/Tarefa1/cancioneiro.txt > cancioneiro.txt\n",
        "!curl https://raw.githubusercontent.com/Marcos7765/AEDII/main/Tarefa1/carta.txt > carta.txt"
      ],
      "metadata": {
        "colab": {
          "base_uri": "https://localhost:8080/"
        },
        "id": "g_x9kzLxffoZ",
        "outputId": "ba4c4c03-052d-470c-8278-f5a5377f941e"
      },
      "execution_count": null,
      "outputs": [
        {
          "output_type": "stream",
          "name": "stdout",
          "text": [
            "  % Total    % Received % Xferd  Average Speed   Time    Time     Time  Current\n",
            "                                 Dload  Upload   Total   Spent    Left  Speed\n",
            "100 51328  100 51328    0     0   200k      0 --:--:-- --:--:-- --:--:--  201k\n",
            "  % Total    % Received % Xferd  Average Speed   Time    Time     Time  Current\n",
            "                                 Dload  Upload   Total   Spent    Left  Speed\n",
            "100 22405  100 22405    0     0   105k      0 --:--:-- --:--:-- --:--:--  106k\n"
          ]
        }
      ]
    },
    {
      "cell_type": "code",
      "source": [
        "with open(\"cancioneiro.txt\", \"r\") as file:\n",
        "  texto = \"\".join(file.readlines())\n",
        "proc = nlp(texto)\n",
        "unicas = []\n",
        "extraFiltro=set(\"<>-0123456789()[]\")\n",
        "for w in proc:\n",
        "    if w.ent_type==0 and not (w.is_stop or w.is_punct or w.is_digit or w.is_space):\n",
        "        if not (extraFiltro & set(w.text)):\n",
        "          cand = w.text.lower()\n",
        "          if not cand in unicas:\n",
        "              unicas.append(cand)\n",
        "print(unicas)\n",
        "print(f\"Total words: {len(unicas)}\")"
      ],
      "metadata": {
        "colab": {
          "base_uri": "https://localhost:8080/"
        },
        "id": "QRteGIcz1IML",
        "outputId": "f80d027c-f527-481c-8dd3-0746fc935dca"
      },
      "execution_count": null,
      "outputs": [
        {
          "output_type": "stream",
          "name": "stdout",
          "text": [
            "['lâmpada', 'acesa', 'acendeu', 'beleza', 'chão', 'deserto', 'sonhar', 'incerto', 'círculo', 'ondear', 'sombra', 'luz', 'oscila', 'sonho', 'conduz', 'dia', 'sorria', 'vi', 'silente', 'vagamente', 'ó', 'noite', 'eterna', 'braços', 'filho', 'rei', 'voluntariamente', 'abandonei', 'trono', 'sonhos', 'cansaços', 'espada', 'pesada', 'lassos', 'mão', 'viris', 'calmas', 'entreguei', 'cetro', 'coroa', 'deixei', 'antecâmara', 'feitos', 'pedaços', 'cota', 'malha', 'inútil', 'esporas', 'tinir', 'fútil', 'fria', 'escadaria', 'realeza', 'corpo', 'alma', 'regressei', 'antiga', 'calma', 'paisagem', 'morrer', 'arte', 'esquece', 'olhar', 'olhando', 'súbito', 'bate', 'encontro', 'devaneando', 'sério', 'correr', 'repente', 'oco', 'pensar', 'mundo', 'redor', 'fica', 'exterior', 'ficar', 'some', 'ligar', 'idéia', 'nome', 'mim', 'terra', 'céus', 'sonha', 'papel', 'transparente', 'canto', 'pirâmides', 'bico', 'pena', 'perfil', 'paro', 'escureceu', 'abismo', 'feito', 'soterrado', 'escrever', 'versos', 'clara', 'candeeiro', 'esmaga', 'alto', 'traços', 'ouço', 'esfinge', 'rir', 'som', 'enorme', 'teto', 'detrás', 'escrevo', 'escreve', 'cadáver', 'olhos', 'abertos', 'olhares', 'cruzam', 'corre', 'alegria', 'barcos', 'embandeirados', 'erra', 'diagonal', 'difusa', 'penso', 'quéops', 'ouro', 'velho', 'vida', 'barco', 'abandonado', 'ermo', 'porto', 'destino', 'ergue', 'ferro', 'segue', 'atino', 'navegar', 'casado', 'fado', 'ah', 'lance', 'mar', 'alado', 'vulto', 'velas', 'peregrino', 'afastamento', 'divino', 'manhã', 'puro', 'salgado', 'ação', 'vontade', 'viva', 'estéril', 'viver', 'boiando', 'tona', 'saudade', 'limos', 'esverdeiam', 'quilha', 'vento', 'mover', 'ansiada', 'morte', 'chega', 'instante', 'arremedo', 'perdida', 'amor', 'começado', 'ideal', 'acabou', 'tenha', 'alcançado', 'alcançou', 'certo', 'caderno', 'sorte', 'deixou', 'aberto', 'léguas', 'pensamento', 'floresceu', 'avessas', 'ócio', 'lâmpadas', 'alcova', 'cambaleante', 'prestes', 'volve', 'macio', 'visto', 'tato', 'veludos', 'vista', 'há', 'oásis', 'suspeita', 'caravana', 'espaço', 'horizontal', 'vertical', 'encontrar', 'ascende', 'leve', 'fumo', 'sensações', 'incluir', 'noção', 'reposteiro', 'sala', 'jaz', 'alguém', 'morto', 'caiu', 'tiniu', 'infinito', 'luar', 'rio', 'vela', 'passar', 'revela', 'estranho', 'angústia', 'enlaça', 'explica', 'passa', 'espera', 'sossego', 'outrora', 'dormindo', 'sente', 'importaria', 'fosse', 'estarei', 'exílio', 'ventura', 'amargura', 'reinar', 'guardando', 'venerando', 'descansa', 'dor', 'esperança', 'negação', 'coração', 'horas', 'alameda', 'vestes', 'seda', 'sonhada', 'alongada', 'azular', 'ar', 'expirar', 'expira', 'flauta', 'delira', 'quase', 'tranqüila', 'tremeluzir', 'ansiedades', 'caem', 'escada', 'abaixo', 'desejos', 'jardim', 'absolutamente', 'exata', 'música', 'longínqua', 'excessivamente', 'passe', 'colher', 'esqueça', 'gestos', 'pensado', 'sonhado', 'dias', 'nulos', 'decorrer', 'cansaço', 'aumentar', 'mocidade', 'si', 'mesma', 'sobrevive', 'tédio', 'invade', 'falsa', 'cansa', 'proveito', 'saúde', 'leito', 'atrasa', 'razão', 'andar', 'inerte', 'esqueço', 'querer', 'verte', 'quere', 'posta', 'ida', 'nela', 'nau', 'solentemente', 'lida', 'esperar', 'mãos', 'terminam', 'segredo', 'negros', 'macios', 'cruz', 'seios', 'esguios', 'princesas', 'degredo', 'buxos', 'pé', 'bancos', 'frios', 'entrevistas', 'alamedas', 'quedo', 'vendo', 'arrastado', 'medo', 'longes', 'navios', 'subir', 'praia', 'castelos', 'areia', 'crianças', 'deixaram', 'será', 'haver', 'cais', 'distante', 'pobre', 'pai', 'feias', 'castelo', 'rosa', 'tormenta', 'umedeceu', 'raia', 'nesga', 'céu', 'alimenta', 'torpor', 'espécie', 'conhece', 'noutro', 'caso', 'restam', 'deito', 'vinho', 'copo', 'acaso', 'verdadeiramente', 'sentir', 'complicado', 'andando', 'enganado', 'crê', 'sofremos', 'pecam', 'mentimos', 'falham', 'chuvas', 'orvalham', 'folhas', 'caídas', 'secam', 'dum', 'cor', 'flores', 'largam', 'arrastando', 'águas', 'vultos', 'sol', 'daquelas', 'árvores', 'antigas', 'sombrio', 'pálido', 'cheia', 'espírito', 'saem', 'liberto', 'duplo', 'estrada', 'nítida', 'levanta', 'muro', 'passam', 'troncos', 'horizontalidade', 'deixam', 'cair', 'amarras', 'água', 'estampa', 'estivesse', 'desdobrada', 'renque', 'árvore', 'arder', 'duma', 'entra', 'outro', 'poeta', 'fingidor', 'completamente', 'fingir', 'deveras', 'lêem', 'sentem', 'calhas', 'roda', 'entreter', 'comboio', 'corda', 'chama', 'verde', 'roxo', 'doura', 'falsamente', 'vermelho', 'áspero', 'casual', 'espelho', 'sinto', 'quereria', 'desvendar', 'capitães', 'marinheiros', 'fizeram', 'navegação', 'longínquos', 'lúgubres', 'parceiros', 'esquecimento', 'ingratidão', 'ondas', 'incertamente', 'recordar', 'nua', 'obscuro', 'ímpeto', 'poesia', 'lua', 'abate', 'descante', 'ignorância', 'natural', 'vasante', 'murmurar', 'coisas', 'parecem', 'mortas', 'vácuo', 'portas', 'exortas', 'meditar', 'voz', 'contramestres', 'nautas', 'descoberta', 'infiel', 'chamou', 'igonotas', 'flautas', 'vaga', 'impossível', 'melodia', 'ouvido', 'ouvia', 'ouvir', 'achar', 'intérminos', 'oceanos', 'distância', 'corações', 'humanos', 'ânsia', 'sutil', 'parar', 'imenso', 'disto', 'fundo', 'ignorado', 'existir', 'vir', 'vã', 'livre', 'enfim', 'ignorar', 'transposta', 'argonauta', 'capitão', 'contramestre', 'ouvidos', 'perdão', 'reminiscência', 'ensinar', 'antigo', 'português', 'fala', 'baladas', 'aliadas', 'saudades', 'fadas', 'amadas', 'gnomos', 'idos', 'lívidas', 'luares', 'altas', 'noites', 'aladas', 'canais', 'barcas', 'erradas', 'rumos', 'descridos', 'tresloucadas', 'casadas', 'belas', 'estrelas', 'delas', 'alheadas', 'sao', 'fumos', 'sonhadas', 'fatais', 'iguais', 'parcas', 'hiemais', 'caladas', 'toadas', 'afastadas', 'irreais', 'cimo', 'montanha', 'vê', 'cismo', 'perdi', 'achei', 'vivi', 'hoje', 'pranto', 'anoitecer', 'jeito', 'feliz', 'estreito', 'quis', 'morrendo', 'flux', 'banha', 'acarinha', 'acalma', 'criancinha', 'brilha', 'noute', 'oh', 'horror', 'pavor', 'archote', 'apagar', 'guia', 'sermente', 'ti', 'mero', 'eco', 'demim', 'inundo', 'negro', 'lume', 'pra', 'tocam', 'pinheirais', 'bafos', 'leves', 'ritmos', 'musicais', 'voltas', 'estradas', 'mostra', 'esconde', 'incerta', 'oiço', 'choro', 'tênue', 'existe', 'crepúsculo', 'pinhais', 'triste', 'cessa', 'brisa', 'ais', 'pensa', 'madrugar', 'solidão', 'imensa', 'frio', 'insone', 'hei', 'informe', 'real', 'amanhecer', 'astral', 'silêncio', 'surdo', 'negror', 'mudo', 'cerca', 'muros', 'sonhas', 'visível', 'portão', 'grade', 'dada', 'quantas', 'risonhas', 'conheçam', 'ninguém', 'ponhas', 'canteiros', 'possam', 'entrever', 'lho', 'mostrar', 'crescer', 'deixa', 'ervas', 'naturais', 'medrar', 'guardado', 'fite', 'possa', 'ostensivo', 'reservado', 'trás', 'flor', 'nativa', 'roça', 'erva', 'vês', 'ouvi', 'interstícios', 'brando', 'encanto', 'diferentes', 'juntas', 'cantar', 'havia', 'lembro', 'chorar', 'melhor', 'neve', 'pior', 'gente', 'contente', 'presente', 'nevar', 'apesar', 'convenção', 'arrefece', 'quadra', 'gelado', 'pés', 'chuva', 'ruído', 'senão', 'dorme', 'viúva', 'sentimento', 'cego', 'renego', 'solta', 'nuvens', 'sussurrar', 'apetece', 'paira', 'sinta', 'indistintamente', 'certa', 'minta', 'desejo', 'mente', 'cai', 'atrai', 'agonia', 'chove', 'claro', 'azul', 'escuro', 'constante', 'invisível', 'curva', 'traçada', 'eis', 'ante', 'hora', 'estorvasse', 'disfarce', 'ouve', 'face', 'derradeiros', 'poente', 'segredam', 'arcadas', 'claustro', 'seqüestrando', 'lucidez', 'espasmo', 'apagado', 'ódio', 'ilhas', 'vistas', 'convés', 'perdido', 'gelos', 'outono', 'funeral', 'apelos', 'dissonância', 'começa', 'negrura', 'escura', 'oriente', 'tardo', 'sono', 'vazia', 'indefinido', 'vazio', 'vive', 'nega', 'ama', 'perde', 'longa', 'esperto', \"p'r'ao\", 'cama', 'canção', 'princesa', 'amou', 'esquecido', 'adormecerei', 'fiz', 'dormir', 'sorrir', 'seja', 'taça', 'mesa', 'alheia', 'tristeza', 'mágoa', 'figura', 'temeu', 'ficção', 'palco', 'tábuas', 'dança', 'mágoas', 'suceda', 'fonte', 'cessasse', 'vãos', 'admiraram', \"p'ra\", 'palmares', 'nasce', 'apareceu', 'asas', 'ares', 'mistério', 'mares', 'morreu', 'pasce', 'descida', 'assiste', 'lago', 'conta', 'lenda', 'dormia', 'encantada', 'despertaria', 'viria', 'tinha', 'tentado', 'vencer', 'libertado', 'deixasse', 'errado', 'fronte', 'esquecida', 'grinalda', 'esforçado', 'intuito', 'fadado', 'dela', 'cumpre', 'tino', 'processo', 'falso', 'seguro', 'vencendo', 'mora', 'inda', 'tonto', 'houvera', 'ã', 'cabeça', 'maresia', 'encontra', 'estremece', 'vincos', 'risonhos', 'adormecida', 'única', 'vejo', 'parado', 'abrande', 'vaivém', 'ramo', 'agitado', 'durmo', 'surpresa', 'alta', 'louro', 'maduro', 'altos', 'tivesse', 'deitada', 'montinhos', 'amanhecem', 'madrugada', 'braço', 'branco', 'assenta', 'palmo', 'espalhado', 'saliência', 'flanco', 'relevo', 'tapado', 'gomo', 'embarco', 'profundo', 'caos', 'absoluta', 'degraus', 'sentido', 'horizonte', 'névoa', 'ligeira', 'afaga', 'pequeno', 'monte', 'pára', 'dianteira', 'farrapo', 'invisíveis', 'trapo', 'contornos', 'medito', 'acredito', 'crença', 'espreita', 'continua', 'pensando', 'caminhos', 'seguem', 'tristes', 'passos', 'realidade', 'comigo', 'penumbra', 'existo', 'nódoa', 'esbatida', 'consciente', 'acenderem', 'houver', 'foscos', 'afluente', 'misterioso', 'espaços', 'desertos', 'nulo', 'ditosos', 'acena', 'lenço', 'despedida', 'felizes', 'sofro', 'suspenso', 'maré', 'vazar', 'sobe', 'farto', 'improfícuas', 'agonias', 'parto', 'finjo', 'minto', 'simplesmente', 'imaginação', 'uso', 'passo', 'falha', 'finda', 'terraço', 'enleio', 'lê', 'olha', 'folha', 'pávido', 'absorto', 'comovida', 'velo', 'risonho', 'amar', 'carne', 'atento', 'encantamento', 'achou', 'confusão', 'enganada', 'paz', 'confia', 'ramos', 'tecem', 'docéis', 'ficamos', 'damos', 'seio', 'leio', 'lúbrico', 'vagar', 'ilusão', 'finge', 'spaço', 'adormecer', 'esquecer', 'íntimo', 'gozo', 'vale', 'cavalo', 'cavaleiro', 'monge', 'pr', 'casas', 'prados', 'aliados', 'penhascos', 'pretos', 'defronte', 'secretos', 'conte', 'despertar', 'sonhei', 'desperto', 'conheço', 'despertei', 'brandas', 'glórias', 'limpo', 'intervêm', 'memórias', 'trazemos', 'vemos', 'canta', 'ceifeira', 'ceifa', 'alegre', 'anônima', 'viuvez', 'ave', 'limiar', 'curvas', 'enredo', 'suave', 'alegra', 'entristece', 'campo', 'razões', 'stá', 'derrama', 'ondeando', 'sendo', 'inconsciência', 'consciência', 'ciência', 'passai', 'ia', 'pastorinha', 'imperfeição', 'gesto', 'rebanho', 'terras', 'hás', 'rainha', 'disseram', 'escuridão', 'caminha', 'pastora', 'serei', 'regresso', 'indistinto', 'porvir', 'vaporosas', 'sombras', 'rosas', 'nadas', 'lunar', 'aéreas', 'dançar', 'perfumes', 'soltos', 'repuxos', 'ritmo', 'agitam', 'pompa', 'indecisa', 'flébil', 'demora', 'auréola', 'tomba', 'treme', 'leveza', 'solene', 'indo', 'delindo', 'único', 'lindo', 'rodas', 'lívido', 'sozinhas', 'fio', 'rarear', 'longínquo', 'disperso', 'pálio', 'dolorido', 'epicurista', 'despreza', 'descrença', 'presa', 'perturba', 'segui', 'conquista', 'depressa', 'própria', 'mesmos', 'dista', 'definir', 'podemos', 'perdemos', 'indefinida', 'tamanha', 'louras', 'lindas', 'berlindas', 'vindas', 'varandas', 'ouvem', 'frias', 'bandas', 'torno', 'entorna', 'atordoar', 'arde', 'torna', 'tom', 'atoarda', 'alarde', 'adornado', 'ardor', 'transtorna', 'tarda', 'nevoentos', 'desencantos', 'encantos', 'pensamentos', 'santos', 'lentos', 'recantos', 'bentos', 'cantos', 'conventos', 'prantos', 'intentos', 'tantos', 'encantam', 'atentos', 'ventos', 'emissário', 'desconhecido', 'cumpro', 'informes', 'instruções', 'bruscas', 'frases', 'lábios', 'anômalo', 'inconscientemente', 'divido', 'missão', 'glória', 'desdém', 'humano', 'lido', 'mandou', 'orgulho', 'tradições', 'viram', 'plena', 'violência', 'ambição', 'sonolência', 'ausência', 'desperta', 'janela', 'aberta', 'apetecer', 'i', 'ii', 'brandindo', 'olho', 'passou', 'turbilhonado', 'assombra', 'rasto', 'deus', 'iii', 'iv', 'v', 'arco', 'ponte', 'fico', 'tristonho', 'vestida', 'voando', 'pombal', 'intervalo', 'digo', 'calo', 'elevado', 'pomba', 'bater', 'rasgado', 'pendões', 'cessar', 'clarins', 'derrota', 'ficou', 'cobriu', 'vagos', 'batalhões', 'louco', 'varões', 'prolixo', 'prélio', 'verteu', 'rastro', 'cobre', 'tornou', 'cessou', 'desatino', 'rotos', 'absurdo', 'desolado', 'heráldica', 'ignotos', 'folhagem', 'arvoredo', 'aragem', 'passagem', 'lembrança', 'verdade', 'dói', 'liberdade', 'ébrio', 'traz', 'dele', 'sorri', 'suponho', 'margens', 'diversas', 'várias', 'viagens', 'chegou', 'habito', 'casa', 'morre', 'liga', 'vêdes', 'verdades', 'dadas', 'opostas', 'publicado', 'in', 'maio', 'epígrafe', 'encabeça', 'poema', 'autor', 'interrogação', 'levantada', 'crítico', 'carta', 'citação', 'trecho', 'traduzido', 'latim', 'indica', 'fato', 'permitido', 'folhear', 'primeiros', 'graus', 'extinta', 'dormência', 'citaria', 'citar', 'indicando', 'origem', 'trechos', 'trabalho', 'transviadas', 'outeiros', 'vago', 'ribeiros', 'assombro', 'sepulcros', 'orgíaco', 'loucura', 'chamar', 'talento', 'felicidade', 'haverá', 'cidade', 'igual', 'montes', 'quedos', 'segredos', 'devia', 'insciente', 'ironia', 'belo', 'perdeu', 'p’ra', 'dura', 'frescura', 'pousaste', 'movimento', 'retiraste', 'memória', 'corpórea', 'muita', 'pousando', 'houve', 'tocasses', 'etéreo', 'soubesses', 'imprecisa', 'existente', 'sirtes', 'dourado', 'assomo', 'fada', 'maliciosa', 'gnomo', 'houvesse', 'pertencer', 'gloríola', 'pomo', 'metáfora', 'nalgum', 'livro', 'insubsistente', 'gamas', 'doente', 'espadas', 'bandeiras', 'desfraldadas', 'última', 'império', 'chamas', 'momentos', 'escuros', 'névoas', 'erguendo', 'aterrado', 'posto', 'nado', 'peço', 'fúria', 'trevas', 'alongar', 'sopre', 'compreender', 'libertar', 'preso', 'roubou', 'incêndio', 'periga', 'fogo', 'fantasia', 'amiga', 'fruto', 'emurchecendo', 'siga', 'irreal', 'sabor', 'dispôs', 'pudesse', 'fadou', 'teia', 'tece', 'arrancou', 'odiava', 'deu', 'trava', 'sinistro', 'astro', 'baço', 'anéis', 'irreversíveis', 'desgraça', 'luas', 'fitam', 'regaço', 'saturno', 'entregou', 'plúmbea', 'ergueu', 'aflito', 'erguido', 'apertou', 'sangrando', 'lasso', 'cintura', 'tríplice', 'denota', 'brota', 'maligna', 'formosura', 'álgida', 'ignota', 'mistérios', 'habitam', 'hesitam', 'pássaros', 'transpor', 'aves', 'cheias', 'sondo', 'cataclismo', 'medonho', 'deram', 'alumia', 'criou', 'desejado', 'criado', 'ousarei', 'bendito', 'conhecer', 'descaminho', 'igreja', 'acende', 'templo', 'aceso', 'vidraças', 'esplendor', 'toalha', 'altar', 'soa', 'coro', 'latino', 'vidraça', 'chiar', 'missa', 'automóvel', 'fiéis', 'ajoelham', 'sacode', 'festa', 'catedral', 'absorve', 'padre', 'luzes', 'disse', 'raras', 'deusas', 'escutado', 'cheio', 'verdadeiro', 'segredado', 'ousei', 'sabia', 'roçou', 'testa', 'cabelo', 'sentia', 'sonhaste', 'ciúme', 'supôs', 'dito', 'direi', 'fingi', 'levemente', 'falou', 'anseia', 'boca', 'frase', 'imerecida', 'louca', 'esperam', 'ledice', 'prazer', 'cumprir', 'dever', 'ler', 'maçada', 'doira', 'literatura', 'edição', 'original', 'naturalmente', 'matinal', 'pressa', 'papéis', 'pintados', 'tinta', 'estudar', 'indistinta', 'distinção', 'bruma', 'venha', 'bondade', 'danças', 'peca', 'criar', 'seca', 'finanças', 'consta', 'biblioteca', 'digas', 'suavidade', 'entender', 'metade', 'amanhã', 'viagem', 'agrada', 'supor', 'dirá', 'velada', 'dirias', 'sê', 'nu', 'anos', 'passado', 'mentida', 'futuro', 'imaginado', 'beira', 'anônimo', 'vivida', \"sp'rança\", 'alcança', 'ensejo', 'bola', 'criança', \"s'prança\", 'sequer', 'breves', 'verduras', 'neves', 'gastei', 'mantinha', 'reino', 'lentas', 'margem', 'lembranças', 'sonolentas', 'esperanças', 'nevoentas', 'impaciente', 'teime', 'desmentido', 'mansas', 'correm', 'hão', 'atrasado', 'devera', 'passadas', 'alvido', 'cerquei', 'andaime', 'fabricar', 'maestro', 'batuta', 'lânguida', 'rompe', 'infância', 'brincava', 'quintal', 'deslizar', 'cão', 'jockey', 'amarelo', 'prossegue', 'teatro', 'lugares', 'tocar', 'passeia', 'rápida', 'gira', 'músicos', 'brincar', 'aparece', 'atira', 'bolas', 'rotações', 'confusas', 'cães', 'verdes', 'cavalos', 'azuis', 'jockeys', 'amarelos', 'esquerda', 'orquestras', 'filas', 'loja', 'comprei', 'homem', 'desaba', 'rola', 'despenhadeiro', 'interrompidos', 'preto', 'fuga', 'sorrindo', 'branca', 'desaparece', 'costas', 'existirão', 'formas', 'vestígio', 'velha', 'agrado', 'lágrimas', 'lembra', 'raiva', 'ombros', 'escombros', 'insonte', 'venho', 'erro', 'acordo', 'recordo', 'lei', 'ilusões', 'limitam', 'contêm', 'alheios', 'audível', 'olhas', 'ri', 'fins', 'disfarçar', 'voltou', 'estamos', 'falando', 'conversou', 'acaba', 'começou', 'freqüente', 'sentimental', 'reconheço', 'senti', 'afinal', 'vivemos', 'pensada', 'dividida', 'verdadeira', 'errada', 'saberá', 'explicar', 'maneira', 'entristecem', 'ouves', 'sonham', 'esquecem', 'prossigo', 'creio', 'ouviste', 'impreciso', 'ausente', 'começas', 'sorriso', 'continuo', 'falar', 'ouvindo', 'ocioso', 'esfolha', 'silencioso', 'loura', 'rua', 'tripas', 'ignora', 'cara', 'feixe', 'sangue', 'peixe', 'bóiam', 'banheiras', 'criação', 'amplo', 'nuvem', 'errando', 'volta', 'chorando', 'diferente', 'flutua', 'riqueza', 'emoção', 'chora', 'amarga', 'ansiedade', 'consinto', 'saiba']\n",
            "Total words: 1647\n"
          ]
        }
      ]
    },
    {
      "cell_type": "code",
      "source": [
        "with open(\"carta.txt\", \"r\") as file:\n",
        "  texto = \"\".join(file.readlines())\n",
        "proc = nlp(texto)\n",
        "unicas1 = []\n",
        "for w in proc:\n",
        "    if w.ent_type==0 and not (w.is_stop or w.is_punct or w.is_digit or w.is_space):\n",
        "      if not (extraFiltro & set(w.text)):\n",
        "          cand = w.text.lower()\n",
        "          if not cand in unicas1:\n",
        "              unicas1.append(cand)\n",
        "print(unicas1)\n",
        "print(f\"Total words: {len(unicas1)}\")"
      ],
      "metadata": {
        "colab": {
          "base_uri": "https://localhost:8080/"
        },
        "id": "8iakCTQauWhM",
        "outputId": "328c086e-16a7-469f-9841-d4e23a6246ee"
      },
      "execution_count": null,
      "outputs": [
        {
          "output_type": "stream",
          "name": "stdout",
          "text": [
            "['hum', 'cidadam', 'correspondente', 'fataés', 'eventos', 'presente', 'guerra', 'entendo', 'serà', 'v.m', 'duvida', 'havido', 'digno', 'ponderaçaõ', 'dia', 'horror', 'vi', 'principio', 'delle', 'faltaria', 'empenhos', 'amizade', 'deixasse', 'participalo', 'individuarlhe', 'cauzas', 'originou', 'narrarlhe', 'sinceramente', 'factos', 'essenciaes', 'compoz', 'jà', 'constaràõ', 'artigos', 'intimados', 'ella', 'achasse', 'occasiaõ', 'constrangida', 'submeterse', 'quaesquer', 'ditadas', 'superiorïdade', 'forças', 'sofriaõ', 'mào', 'animo', 'naõ', 'conhecerem', 'quam', 'graves', 'indecorosas', 'fossem', 'naçaõ', 'crerem', 'totalmente', 'alheyas', 'maximas', 'generosas', 'dita', 'extremamente', 'commum', 'sentimento', 'setembro', 'foraõ', 'intimadas', 'general', 'exorbitantes', 'contribuições', 'milhões', 'cruzados', 'ferro', 'fogo', 'sacco', 'irreparavelmente', 'ameaçava', 'caso', 'repulsa', 'encheo', 'ira', 'terror', 'considerando', 'vidas', 'fazendas', 'liberdade', 'dependia', 'petitorios', 'inexecutaveis', 'dispotico', 'procedimento', 'exactores', 'descubria', 'moderaçaõ', 'alguma', 'pagos', 'primeiros', 'tres', 'cincoenta', 'refresco', 'termo', 'dias', 'pressa', 'mesmas', 'insistencias', 'ameaços', 'foy', 'precizo', 'pagar', 'defficil', 'conjecturar', 'internamente', 'enfurecesse', 'vendo', 'publicamente', 'transferir', 'quartel', 'somas', 'tam', 'relevantes', 'natural', 'impossibilidade', 'achar', 'forçoso', 'objecto', 'remir', 'execuções', 'militares', 'instante', 'ameaçadas', 'obrigou', 'extremo', 'expediente', 'pôr', 'mão', 'sagrado', 'deposito', 'donde', 'conserva', 'integerrima', 'fé', 'dinheiro', 'proprios', 'nacionaes', 'estranhos', 'ouvida', 'especialidade', 'homens', 'negocio', 'muitissimos', 'vivem', 'ficáram', 'sentidos', 'gravissimo', 'tantas', 'familias', 'pejo', 'violada', 'respeitava', 'principal', 'alicerse', 'subditos', 'tambem', 'irreparavel', 'ruina', 'comercio', 'sumergia', 'esperança', 'antigo', 'credito', 'thesouros', 'extorquidos', 'admirado', 'àlem', 'destas', 'contribuiçoens', 'chegasse', 'mesmos', 'pedir', 'outro', 'duzentos', 'contado', 'conta', 'quarteis', 'inverno', 'incluir', 'soma', 'especie', 'pedia', 'cõmoda', 'subsistencia', 'ditos', 'porem', 'podesse', 'conseguir', 'passaportes', 'pedio', 'destinou', 'implorarem', 'justo', 'alivio', 'oppressões', 'fosse', 'modos', 'embaraçada', 'via', 'esperar', 'effeitos', 'daquella', 'generosa', 'clemencia', 'teriaõ', 'experimentado', 'informada', 'minima', 'infortunios', 'varias', 'partes', 'avizos', 'certos', 'comovida', 'impulsos', 'rectissimo', 'bons', 'officios', 'particularmente', 'tinha', 'prometido', 'nuncio', 'rezide', 'diminuiria', 'multada', 'porèm', 'destes', 'entenderaõ', 'representaçoens', 'pervenidas', 'fizeraõ', 'revogar', 'indulto', 'effeito', 'diminuiçaõ', 'contrario', 'intimar', 'absolutamente', 'pagamento', 'aumentar', 'eximiamente', 'primeiras', 'pretenções', 'taixados', 'maneira', 'meyo', 'dilaçaõ', 'cominaçaõ', 'rigorosas', 'extorções', 'ajuntava', 'numero', 'aggravos', 'multiplicavaõ', 'dilatarey', 'relatalos', 'possa', 'idèa', 'delles', 'bastarà', 'tantos', 'lugares', 'maritimos', 'tomavaõ', 'força', 'serem', 'satisfeitas', 'embarcações', 'casta', 'transportarem', 'mantimentos', 'constrangiaõ', 'contribuir', 'viveres', 'metade', 'preço', 'compravaõ', 'proprietarios', 'terras', 'pobres', 'extorquiaõ', 'subalternos', 'consideraveis', 'titulo', 'deixalos', 'viver', 'quietaçaõ', 'haviaõ', 'abundantemente', 'providas', 'dispendio', 'excessivo', 'huma', 'provincia', 'exteril', 'limitada', 'producções', 'embargo', 'disto', 'deixavaõ', 'devastar', 'cazas', 'moradores', 'ficavaõ', 'izentos', 'pancadas', 'insultos', 'operarios', 'ordinariamente', 'defraudados', 'trabalho', 'vilipendiados', 'injurias', 'constrangidos', 'vender', 'preços', 'finalmente', 'quotidianamente', 'insultado', 'palavras', 'descompostas', 'violencias', 'vistas', 'entretanto', 'diminuindo', 'ficou', 'unico', 'remedio', 'indigencia', 'vida', 'despovoado', 'traziaõ', 'sustento', 'eraõ', 'violentamente', 'embargados', 'fundamento', 'prover', 'elles', 'pretexto', 'derigilos', 'ficava', 'inteiramente', 'interdicta', 'cruelmente', 'negados', 'necessario', 'navegavaõ', 'remotos', 'extrema', 'trafego', 'livre', 'execrando', 'visto', 'permitia', 'navios', 'nelle', 'entravaõ', 'reparo', 'damno', 'enormissimo', 'tirava', 'violencia', 'meyos', 'sustentar', 'austriacos', 'entrar', 'hostilmente', 'armados', 'cavallo', 'mesma', 'alfandega', 'darlhe', 'busca', 'acçaõ', 'realmente', 'indicava', 'peores', 'consequencias', 'negociantes', 'justamente', 'temiaõ', 'proprias', 'ficassem', 'taõ', 'seguras', 'respeitado', 'couto', 'reparar', 'prejuizos', 'sufficiente', 'paternal', 'zelo', 'acertadas', 'providencias', 'obstante', 'exhausto', 'publico', 'erario', 'suspendia', 'aggravo', 'impostos', 'procurava', 'suprimir', 'daquelles', 'saõ', 'indispensaveis', 'excessivos', 'damnos', 'causaraõ', 'podiaõ', 'remediar', 'progresso', 'armas', 'sitio', 'causava', 'negociãtes', 'dolorosas', 'apprehenções', 'universal', 'fallava', 'pessima', 'constituiçaõ', 'achava', 'constrangido', 'deffender', 'cometer', 'hostilidades', 'hiaõ', 'sombra', 'maritima', 'conquistando', 'praças', 'importantes', 'motivos', 'fortes', 'aflicçaõ', 'juntava', 'receyo', 'execuçoens', 'tinhaõ', 'inevitaveis', 'vista', 'satisfazer', 'immensas', 'expressadas', 'chegavaõ', 'assguravaõ', 'ordem', 'faziaõ', 'destintamente', 'reconhecer', 'examinar', 'cuidado', 'occupar', 'domina', 'varios', 'muros', 'sogeitaõ', 'advertido', 'morteiros', 'bombas', 'dito', 'apontados', 'dous', 'publicar', 'assemilharia', 'extorquir', 'atè', 'ultimo', 'real', 'devia', 'deixar', 'olhos', 'chorarem', 'disgraças', 'desapaixonado', 'conhecerà', 'consternaçaõ', 'classes', 'dezemparavaõ', 'patria', 'presenciarem', 'della', 'punhaõ', 'salvo', 'mulheres', 'filhos', 'exporem', 'ludibrio', 'fremiaõ', 'esperando', 'fatal', 'tragedia', 'cabia', 'mayor', 'irritamento', 'tomar', 'resoluçaõ', 'estando', 'cousas', 'nestes', 'termos', 'commandante', 'artelharia', 'embarcar', 'levar', 'inuteis', 'representações', 'enfurecido', 'sorte', 'tollerar', 'retirasse', 'conhecia', 'preciso', 'defença', 'ficando', 'desarmada', 'exposta', 'quizesse', 'atacala', 'sucedeu', 'transportava', 'morteiro', 'principaes', 'bairros', 'chamado', 'povoado', 'profundou', 'grave', 'pezu', 'rua', 'passava', 'assistiaõ', 'transporte', 'quizeraõ', 'obrigar', 'circunstantes', 'levantar', 'pezada', 'maquina', 'achàraõ', 'repugnancia', 'nelles', 'maltrataraõ', 'acudio', 'gente', 'pedradas', 'afugentou', 'obrigados', 'desempararem', 'irritado', 'proxima', 'injuria', 'excessiva', 'continua', 'oppressaõ', 'principiou', 'aquelles', 'expedientes', 'suggeria', 'dezesperaçaõ', 'noute', 'pediraõ', 'tumultuariamente', 'altas', 'vozes', 'muitas', 'horas', 'lhas', 'negou', 'constantemente', 'procurou', 'efficazes', 'apasiguar', 'tumulto', 'deputando', 'intento', 'authoridade', 'applacarem', 'furia', 'tello', 'afastado', 'ordenar', 'fizessem', 'descargas', 'fuzilaria', 'tomàraõ', 'haveriaõ', 'colhido', 'algum', 'fruto', 'contrarias', 'idèas', 'informou', 'successo', 'entrasse', 'consideraçaõ', 'moderar', 'genio', 'repetida', 'successivo', 'ordinarios', 'persuadilo', 'intentar', 'cousa', 'suspender', 'artilharia', 'excitar', 'emoçaõ', 'popular', 'principiar', 'modo', 'socego', 'elle', 'entendeo', 'convinha', 'ordenou', 'destacamento', 'defender', 'proseguir', 'ficàraõ', 'rechasados', 'derramou', 'furor', 'intentou', 'expulsar', 'estavaõ', 'aquartelados', 'adiantaraõ', 'occupàraõ', 'chamada', 'agua', 'verde', 'bairro', 'ocularmente', 'posto', 'defensas', 'cõtra', 'ditas', 'eminencias', 'tornou', 'instancia', 'igual', 'constancia', 'extraordinariamente', 'grosso', 'armazens', 'escadas', 'tiràraõ', 'disposto', 'entrada', 'janellas', 'frustrado', 'logeas', 'persuadiraõ', 'achariaõ', 'muniçoens', 'forçàraõ', 'polvora', 'desarmàraõ', 'regulares', 'occupáraõ', 'baterias', 'transportàraõ', 'peças', 'postos', 'erigiraõ', 'sobreditas', 'durou', 'reciprocamente', 'faltavaõ', 'sobreditos', 'instar', 'concorresse', 'urgente', 'uteis', 'diligencias', 'continuava', 'mitigar', 'espiritos', 'revoltos', 'julgou', 'proprio', 'reposta', 'positiva', 'faltou', 'motivo', 'desejava', 'julgava', 'seguro', 'rigor', 'ficasse', 'superior', 'determinou', 'entrega', 'prezidiavaõ', 'desistencia', 'manutençaõ', 'denegava', 'moral', 'cauçaõ', 'resolvia', 'explicar', 'escrito', 'chegariaõ', 'determinações', 'seguinte', 'manhãa', 'armisticio', 'attento', 'aproveitou', 'renovar', 'evitar', 'eminente', 'sogeitos', 'semelhantes', 'cazos', 'energia', 'acharaõ', 'firme', 'presistencia', 'querer', 'consentir', 'dando', 'respostas', 'inconcludentes', 'ambiguas', 'palavra', 'ficaraõ', 'frustradas', 'infructuoso', 'tratado', 'chegou', 'cujas', 'summamente', 'crescidas', 'podendo', 'admitir', 'conselhos', 'propria', 'renovou', 'particulares', 'violentou', 'depositos', 'publicos', 'tomou', 'posse', 'milhores', 'daquellas', 'portas', 'guardavaõ', 'ahi', 'entrou', 'toque', 'sinos', 'convocassem', 'habitantes', 'classe', 'condiçaõ', 'intimoulhe', 'pena', 'apparecessem', 'respectivos', 'destinàraõ', 'impeto', 'indomavel', 'vencer', 'morrer', 'sobremencionado', 'tivesse', 'oportunamente', 'adherido', 'instancias', 'pararia', 'torrente', 'dilações', 'concluir', 'acabou', 'conduzir', 'animos', 'cujos', 'dignos', 'imponderadamente', 'plebe', 'inexplicavel', 'acometeu', 'impavida', 'sobreindicados', '~q', 'fortificado', 'vencidos', 'prizioneiros', 'destacamentos', 'tomaraõ', 'dahi', 'proseguindo', 'calor', 'assaltou', 'mencionadas', 'dellas', 'progredindo', 'sahio', 'formado', 'quinhentos', 'resistir', 'acometidos', 'frente', 'descia', 'eminencia', 'espaldas', 'fogiraõ', 'precipitadamente', 'perseguidos', 'vigor', 'dezemperar', 'segundas', 'chamadas', 'restaurado', 'nomeado', 'restauradas', 'expulsos', 'pareceo', 'haver', 'bastantemente', 'assegurada', 'cuidou', 'perseguillos', 'fortuna', 'tiveraõ', 'largo', 'thesouro', 'exercito', 'retirarem', 'restante', 'quaes', 'deixando', 'bagajem', 'proseguiraõ', 'diligencia', 'marchas', 'repassarem', 'restabelecerem', 'desejo', 'temor', 'existiaõ', 'igualmente', 'vizinhas', 'damnificadas', 'irregular', 'expostas', 'inconvenientes', 'perigos', 'succcesso', 'cair', 'ellas', 'assegurarem', 'achavaõ', 'districtos', 'perda', 'acçoens', 'ataques', 'contaõ', 'mortos', 'feridos', 'padeceraõ', 'he', 'excede', 'doentes', 'vê', 'atendendo', 'insinuações', 'vivas', 'determinei', 'relaçaõ', 'distinta', 'successos', 'ampliar', 'demaziadamente', 'deixo', 'entidade', 'botim', 'concorreram', 'rapazes', 'correspondiaõ', 'saquo', 'deu', 'caza', 'patricios', 'salvar', 'revoluçaõ', 'sò', 'direi', 'ultimamente', 'cessaõ', 'arguir', 'condenar', 'conduta', 'atribuem', 'rebuço', 'succedida', 'causou', 'naquelle', 'causa', 'desesperaçaõ', 'soministrava', 'seguindo', 'constantes', 'cessou', 'cessa', 'exprimir', 'respeito', 'devido', 'magnanima', 'integridade', 'fia', 'espera', 'ficar', 'atribuir', 'dignarà', 'arriscar', 'grato', 'mundo', 'obsequio', 'fidelidade', 'filial', 'amor', 'póvos', 'solemnemente', 'protestaõ', 'tempos', 'empenho', 'conservaçaõ', 'estimulo', 'importante', 'disvelos', 'cuidados', 'communs', 'prontos', 'provas', 'derramar', 'sangue', 'interesses', 'expressoens', 'taes', 'obriguei', 'relatar', 'formará', 'aquelle', 'recto', 'juizo', 'correspondentes', 'provavelmente', 'interessarse', 'desgraças', 'feita', 'digna', 'melhor', 'illustre', 'distintamente', 'empenhada', 'lha', 'procurar', 'respeitos', 'deixaraõ', 'lhes', 'offerecerem', 'contingencia', 'esperala', 'protege', 'opprimidos', 'honra', 'perfeitamente']\n",
            "Total words: 980\n"
          ]
        }
      ]
    },
    {
      "cell_type": "markdown",
      "source": [
        "# Initializing the structures\n",
        "We will also fill them and gather their insertion time data."
      ],
      "metadata": {
        "id": "5ch5rKSx17PV"
      }
    },
    {
      "cell_type": "code",
      "source": [
        "from timeit import default_timer as timer\n",
        "from bisect import insort_left, bisect_left\n",
        "Ntentativas = 100\n",
        "lista = []\n",
        "tentativas= {'avl':[], 'bst':[], 'list':[]}\n",
        "bests= {'avl':{'insert':float('inf'),'search':float('inf')},\n",
        "        'bst':{'insert':float('inf'),'search':float('inf')},\n",
        "        'list':{'insert':float('inf'),'search':float('inf')},\n",
        "        }\n",
        "\n",
        "def add_e_timing(container, addfunc, tempos):\n",
        "  for i in range(Ntentativas):\n",
        "    cont = container()\n",
        "    start = timer()\n",
        "    for w in unicas:\n",
        "      addfunc(cont, w)\n",
        "    end = timer()\n",
        "    tempos.append(end-start)\n",
        "  return cont\n",
        "\n",
        "avl = add_e_timing(AVLTree, AVLTree.add, tentativas['avl'])\n",
        "bst = add_e_timing(BST, BST.add, tentativas['bst'])\n",
        "lista = add_e_timing(list, insort_left, tentativas['list'])\n",
        "\n",
        "bests['avl']['insert'] = min(tentativas['avl'])\n",
        "bests['bst']['insert'] = min(tentativas['bst'])\n",
        "bests['list']['insert'] = min(tentativas['list'])\n",
        "\n",
        "print(avl.get_height())\n",
        "\n",
        "def get_height(node):\n",
        "    #recurrent function to get the height of a bst\n",
        "    if not node.left_child:\n",
        "        left_height = 0\n",
        "    else:\n",
        "        left_height = get_height(node.left_child)\n",
        "    if not node.right_child:\n",
        "        right_height = 0\n",
        "    else:\n",
        "        right_height = get_height(node.right_child)\n",
        "    return max(left_height, right_height) + 1\n",
        "\n",
        "print(get_height(bst.root))\n",
        "#just for sanity\n",
        "print(get_height(avl.root))"
      ],
      "metadata": {
        "id": "E6mj_b311-vF",
        "colab": {
          "base_uri": "https://localhost:8080/"
        },
        "outputId": "bf424175-2d59-4bf7-b12a-e14f2e720044"
      },
      "execution_count": null,
      "outputs": [
        {
          "output_type": "stream",
          "name": "stdout",
          "text": [
            "13\n",
            "22\n",
            "13\n"
          ]
        }
      ]
    },
    {
      "cell_type": "markdown",
      "source": [
        "# Creating the methods"
      ],
      "metadata": {
        "id": "cOgOHxjzYjwe"
      }
    },
    {
      "cell_type": "code",
      "source": [
        "#made it for avl, ended up that it is the same for the bst\n",
        "def AVL_buscaPrefixada(node, prefix, res):\n",
        "    valor = node.value\n",
        "    # all words starting with the prefix should be equal or higher than it\n",
        "    if prefix > valor:\n",
        "        if node.right_child:\n",
        "            return AVL_buscaPrefixada(node.right_child, prefix, res)\n",
        "        return False\n",
        "    # all words that are higher than the prefix and doesnt start with them will\n",
        "    # always be higher than any words with the prefix\n",
        "    if not valor.startswith(prefix):\n",
        "        if node.left_child:\n",
        "            return AVL_buscaPrefixada(node.left_child, prefix, res)\n",
        "        return False\n",
        "    # remaining case: starts with prefix\n",
        "    # both sides could have another word with the prefix\n",
        "    res.append(valor)\n",
        "    if node.left_child: AVL_buscaPrefixada(node.left_child, prefix, res)\n",
        "    if node.right_child: AVL_buscaPrefixada(node.right_child, prefix, res)\n",
        "    return True\n",
        "\n",
        "def lista_buscaPrefixada(lista, prefix):\n",
        "    # uses bisection to get where words starting with the prefix should be and\n",
        "    #goes adding them while there are words with it\n",
        "    res = []\n",
        "    i = bisect_left(lista,prefix)\n",
        "    max = len(lista)\n",
        "    while(True):\n",
        "        if not lista[i].startswith(prefix):\n",
        "            break\n",
        "        res.append(lista[i])\n",
        "        i += 1\n",
        "        if i >= max: break\n",
        "    return res"
      ],
      "metadata": {
        "id": "iV4g6Kq9j7V-"
      },
      "execution_count": null,
      "outputs": []
    },
    {
      "cell_type": "code",
      "source": [
        "# visual test\n",
        "print(\"excerpt of the original list:\")\n",
        "print(lista[8:15])\n",
        "print(80*\"-\")\n",
        "comecaCom = lambda prefix: [x for x in filter(lambda a: a.startswith(prefix), lista)]\n",
        "print(\"startswith reference:\")\n",
        "print(comecaCom(\"abs\"))\n",
        "print(80*\"-\")\n",
        "res = []\n",
        "print(\"AVL:\")\n",
        "print(AVL_buscaPrefixada(avl.root, \"abs\", res))\n",
        "print(res)\n",
        "print(80*\"-\")\n",
        "print(\"sorted list:\")\n",
        "print(lista_buscaPrefixada(lista, \"abs\"))"
      ],
      "metadata": {
        "colab": {
          "base_uri": "https://localhost:8080/"
        },
        "id": "sffu-mXkSEc3",
        "outputId": "88cb4810-fa9a-4084-d120-75a106e0bfb0"
      },
      "execution_count": null,
      "outputs": [
        {
          "output_type": "stream",
          "name": "stdout",
          "text": [
            "excerpt of the original list:\n",
            "['abrande', 'absoluta', 'absolutamente', 'absorto', 'absorve', 'absurdo', 'acaba']\n",
            "--------------------------------------------------------------------------------\n",
            "startswith reference:\n",
            "['absoluta', 'absolutamente', 'absorto', 'absorve', 'absurdo']\n",
            "--------------------------------------------------------------------------------\n",
            "AVL:\n",
            "True\n",
            "['absolutamente', 'absoluta', 'absurdo', 'absorve', 'absorto']\n",
            "--------------------------------------------------------------------------------\n",
            "sorted list:\n",
            "['absoluta', 'absolutamente', 'absorto', 'absorve', 'absurdo']\n"
          ]
        }
      ]
    },
    {
      "cell_type": "code",
      "source": [
        "# testaço\n",
        "# if you wanna test the test, you can insert something on res that wouldn't\n",
        "#appear anyway e.g \"\" or \"0\"\n",
        "alfabeto = \"abcdefghijklmnopqrstuvwxyz\"\n",
        "for letra in alfabeto:\n",
        "    res = []\n",
        "    AVL_buscaPrefixada(avl.root, letra, res)\n",
        "    if comecaCom(letra) != sorted(res):\n",
        "        raise Exception(f\"Something went wrong on the AVL!\\n {comecaCom(letra)}\\n {sorted(res)}\")\n",
        "    if comecaCom(letra) != sorted(lista_buscaPrefixada(lista, letra)):\n",
        "        raise Exception(f\"Something went wrong on the list!\\n {comecaCom(letra)}\\n {sorted(res)}\")\n",
        "print(\"It's alright :)\")"
      ],
      "metadata": {
        "colab": {
          "base_uri": "https://localhost:8080/"
        },
        "id": "kphKWSQUVRio",
        "outputId": "5ad1441d-cc5d-4879-cda9-e6993bb4c00e"
      },
      "execution_count": null,
      "outputs": [
        {
          "output_type": "stream",
          "name": "stdout",
          "text": [
            "It's alright :)\n"
          ]
        }
      ]
    },
    {
      "cell_type": "code",
      "source": [
        "res = []\n",
        "AVL_buscaPrefixada(avl.root, \"\", res)\n",
        "print(len(res))\n",
        "print(len(lista))"
      ],
      "metadata": {
        "colab": {
          "base_uri": "https://localhost:8080/"
        },
        "id": "s6VFBn1eY6EZ",
        "outputId": "0587cc37-52d3-4408-ba12-9a407a5eadd1"
      },
      "execution_count": null,
      "outputs": [
        {
          "output_type": "stream",
          "name": "stdout",
          "text": [
            "1647\n",
            "1647\n"
          ]
        }
      ]
    },
    {
      "cell_type": "markdown",
      "source": [
        "# Measuring search time"
      ],
      "metadata": {
        "id": "X3UuZSyU2rsy"
      }
    },
    {
      "cell_type": "code",
      "source": [
        "buscas = {'avl':[], 'bst':[], 'list':[]}\n",
        "for i in range(Ntentativas):\n",
        "    res = []\n",
        "    start = timer()\n",
        "    for letra in alfabeto:\n",
        "        AVL_buscaPrefixada(avl.root, letra, res)\n",
        "    end = timer()\n",
        "    buscas['avl'].append(end-start)\n",
        "for i in range(Ntentativas):\n",
        "    res = []\n",
        "    start = timer()\n",
        "    for letra in alfabeto:\n",
        "        AVL_buscaPrefixada(bst.root, letra, res)\n",
        "    end = timer()\n",
        "    buscas['bst'].append(end-start)\n",
        "for i in range(Ntentativas):\n",
        "    res = []\n",
        "    start = timer()\n",
        "    for letra in alfabeto:\n",
        "        lista_buscaPrefixada(lista, letra)\n",
        "    end = timer()\n",
        "    buscas['list'].append(end-start)\n",
        "\n",
        "bests['avl']['search'] = min(buscas['avl'])\n",
        "bests['bst']['search'] = min(buscas['bst'])\n",
        "bests['list']['search'] = min(buscas['list'])"
      ],
      "metadata": {
        "id": "sjpRbhvJ2qkM"
      },
      "execution_count": null,
      "outputs": []
    },
    {
      "cell_type": "markdown",
      "source": [
        "# Comparison visualization"
      ],
      "metadata": {
        "id": "3vlBrqlX4iX1"
      }
    },
    {
      "cell_type": "code",
      "source": [
        "import matplotlib.pyplot as plt\n",
        "import numpy as np\n",
        "\n",
        "methodNames = bests.keys()\n",
        "\n",
        "minima = {\n",
        "    'Insertion time': [bests[x]['insert'] for x in methodNames],\n",
        "    'Search time': [bests[x]['search'] for x in methodNames]\n",
        "}\n",
        "\n",
        "x = np.arange(len(methodNames))  # the label locations\n",
        "width = 0.25  # the width of the bars\n",
        "multiplier = 0\n",
        "\n",
        "fig, ax = plt.subplots(layout='constrained')\n",
        "\n",
        "for attribute, measurement in minima.items():\n",
        "    offset = width * multiplier\n",
        "    rects = ax.bar(x + offset, measurement, width, label=attribute)\n",
        "    ax.bar_label(rects, padding=3)\n",
        "    multiplier += 1\n",
        "\n",
        "# Add some text for labels, title and custom x-axis tick labels, etc.\n",
        "ax.set_ylabel('Time (s)')\n",
        "ax.set_title('Minimum time comparison')\n",
        "ax.set_xticks(x + width, methodNames)\n",
        "ax.legend(loc='upper left', ncols=3)\n",
        "ax.set_ylim(0, max(minima['Insertion time']+minima['Search time'])*1.25)\n",
        "\n",
        "plt.show()\n",
        "\n",
        "fig, ax = plt.subplots(layout='constrained')\n",
        "multiplier = 0\n",
        "\n",
        "for attribute, measurement in minima.items():\n",
        "    offset = width * multiplier\n",
        "    rects = ax.bar(x + offset, [a/min(measurement) for a in measurement], width, label=attribute)\n",
        "    ax.bar_label(rects, padding=3)\n",
        "    multiplier += 1\n",
        "\n",
        "# Add some text for labels, title and custom x-axis tick labels, etc.\n",
        "ax.set_ylabel('Relative time')\n",
        "ax.set_title('Minimum time comparison\\nScaled with the minimum value')\n",
        "ax.set_xticks(x + width, methodNames)\n",
        "ax.legend(loc='upper left', ncols=len(minima.keys()))\n",
        "ax.set_ylim(0, ax.get_ylim()[1]*1.1)\n",
        "\n",
        "plt.show()"
      ],
      "metadata": {
        "colab": {
          "base_uri": "https://localhost:8080/",
          "height": 999
        },
        "id": "7cJksGr04aLL",
        "outputId": "b1d1b00d-1b9b-4371-a7e5-beabbf949858"
      },
      "execution_count": null,
      "outputs": [
        {
          "output_type": "display_data",
          "data": {
            "text/plain": [
              "<Figure size 640x480 with 1 Axes>"
            ],
            "image/png": "[encoded data removed]"
          },
          "metadata": {}
        },
        {
          "output_type": "display_data",
          "data": {
            "text/plain": [
              "<Figure size 640x480 with 1 Axes>"
            ],
            "image/png": "[encoded data removed]"
          },
          "metadata": {}
        }
      ]
    },
    {
      "cell_type": "code",
      "source": [
        "for key, values in tentativas.items():\n",
        "    plt.scatter(range(1, len(values) + 1), values, label=key)\n",
        "\n",
        "# Add labels and legend\n",
        "plt.xlabel('Attempt')\n",
        "plt.ylabel('Time')\n",
        "plt.title('Time Comparison — Insertion time')\n",
        "plt.legend()\n",
        "\n",
        "# Show the plot\n",
        "plt.show()\n",
        "\n",
        "for key, values in buscas.items():\n",
        "    plt.scatter(range(1, len(values) + 1), values, label=key)\n",
        "\n",
        "# Add labels and legend\n",
        "plt.xlabel('Attempt')\n",
        "plt.ylabel('Time')\n",
        "plt.title('Time Comparison — Search time')\n",
        "plt.legend()\n",
        "\n",
        "# Show the plot\n",
        "plt.show()\n",
        "\n",
        "fig, ax = plt.subplots()\n",
        "for key, values in buscas.items():\n",
        "    plt.scatter(range(1, len(values) + 1), values, label=key)\n",
        "\n",
        "# Add labels and legend\n",
        "plt.xlabel('Attempt')\n",
        "plt.ylabel('Time')\n",
        "plt.title('Time Comparison — Search time (zoomed in)')\n",
        "plt.legend()\n",
        "#ax.set_ylim(0, ax.get_ylim()[1]*1.1)\n",
        "ss, se = ax.get_ylim()\n",
        "ax.set_ylim(ss, ss+ (se-ss)/4)\n",
        "# Show the plot\n",
        "\n",
        "plt.show()"
      ],
      "metadata": {
        "colab": {
          "base_uri": "https://localhost:8080/",
          "height": 1000
        },
        "id": "SIbCRKNaUBgq",
        "outputId": "883108bd-d897-4b46-e7e7-ee60df27e52f"
      },
      "execution_count": null,
      "outputs": [
        {
          "output_type": "display_data",
          "data": {
            "text/plain": [
              "<Figure size 640x480 with 1 Axes>"
            ],
            "image/png": "[encoded data removed]"
          },
          "metadata": {}
        },
        {
          "output_type": "display_data",
          "data": {
            "text/plain": [
              "<Figure size 640x480 with 1 Axes>"
            ],
            "image/png": "[encoded data removed]"
          },
          "metadata": {}
        },
        {
          "output_type": "display_data",
          "data": {
            "text/plain": [
              "<Figure size 640x480 with 1 Axes>"
            ],
            "image/png": "[encoded data removed]"
          },
          "metadata": {}
        }
      ]
    },
    {
      "cell_type": "markdown",
      "source": [
        "# Now it is time for the interactive demonstration!"
      ],
      "metadata": {
        "id": "4S5A8Qz8gMqZ"
      }
    },
    {
      "cell_type": "code",
      "source": [
        "import ipywidgets as ipw\n",
        "Ntentativas = 1\n",
        "avl = add_e_timing(AVLTree, AVLTree.add, tentativas['avl'])\n",
        "def acwrapper(Text:str):\n",
        "    '''wrapper of the AVL_buscaPrefixada to the autocomplete'''\n",
        "    res = []\n",
        "    prefix = Text.split(\" \")[-1]\n",
        "    if prefix == '': return \"No start of word detected.\"\n",
        "    AVL_buscaPrefixada(avl.root, prefix, res)\n",
        "    return \", \".join(res)\n",
        "ipw.interact(acwrapper, Text=\"Write something!\")"
      ],
      "metadata": {
        "colab": {
          "base_uri": "https://localhost:8080/",
          "height": 154,
          "referenced_widgets": [
            "f8e417e175cf4ab5962ea4b238aa86fb",
            "e9293b45bb774e16856e3f404a3ef252",
            "20f493b8780746c59f9c91d6199e5ce7",
            "885a534efce04205889830661c871536",
            "73dd40a9afb440d9a55f5ac9907b2e94",
            "27d556812eaf43fcae3795644f0650d0",
            "b6bf69357b6146ba829732185bdd17f5"
          ]
        },
        "id": "DMvTti8DgiUl",
        "outputId": "d4a7f963-370c-4cdc-8e2b-ff4a65bf3234"
      },
      "execution_count": null,
      "outputs": [
        {
          "output_type": "display_data",
          "data": {
            "text/plain": [
              "interactive(children=(Text(value='Write something!', description='Text'), Output()), _dom_classes=('widget-int…"
            ],
            "application/vnd.jupyter.widget-view+json": {
              "version_major": 2,
              "version_minor": 0,
              "model_id": "f8e417e175cf4ab5962ea4b238aa86fb"
            }
          },
          "metadata": {}
        },
        {
          "output_type": "execute_result",
          "data": {
            "text/plain": [
              "<function __main__.acwrapper(Text: str)>"
            ],
            "text/html": [
              "<div style=\"max-width:800px; border: 1px solid var(--colab-border-color);\"><style>\n",
              "      pre.function-repr-contents {\n",
              "        overflow-x: auto;\n",
              "        padding: 8px 12px;\n",
              "        max-height: 500px;\n",
              "      }\n",
              "\n",
              "      pre.function-repr-contents.function-repr-contents-collapsed {\n",
              "        cursor: pointer;\n",
              "        max-height: 100px;\n",
              "      }\n",
              "    </style>\n",
              "    <pre style=\"white-space: initial; background:\n",
              "         var(--colab-secondary-surface-color); padding: 8px 12px;\n",
              "         border-bottom: 1px solid var(--colab-border-color);\"><b>acwrapper</b><br/>def acwrapper(Text: str)</pre><pre class=\"function-repr-contents function-repr-contents-collapsed\" style=\"\"><a class=\"filepath\" style=\"display:none\" href=\"#\">/content/&lt;ipython-input-21-fcae64694b97&gt;</a>wrapper of the AVL_buscaPrefixada to the autocomplete</pre></div>"
            ]
          },
          "metadata": {},
          "execution_count": 21
        }
      ]
    },
    {
      "cell_type": "code",
      "source": [
        "#execute this cell to corpus (and rebuild the tree)\n",
        "Ntentativas = 1\n",
        "tempos = []\n",
        "temp = unicas\n",
        "unicas = unicas1\n",
        "unicas1 = temp\n",
        "avl = add_e_timing(AVLTree, AVLTree.add, tentativas['avl'])"
      ],
      "metadata": {
        "id": "xCR64a-F7S-M"
      },
      "execution_count": null,
      "outputs": []
    }
  ]
}